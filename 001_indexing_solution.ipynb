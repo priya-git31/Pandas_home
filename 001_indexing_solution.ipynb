{
 "cells": [
  {
   "cell_type": "markdown",
   "id": "a3a6527f",
   "metadata": {},
   "source": [
    "import pandas as pd\n",
    "import numpy as np\n",
    "import os"
   ]
  },
  {
   "cell_type": "code",
   "execution_count": 6,
   "id": "99687364",
   "metadata": {},
   "outputs": [],
   "source": [
    "import pandas as pd\n",
    "import numpy as np\n",
    "import os"
   ]
  },
  {
   "cell_type": "code",
   "execution_count": 7,
   "id": "818c70b2",
   "metadata": {},
   "outputs": [
    {
     "data": {
      "text/html": [
       "<div>\n",
       "<style scoped>\n",
       "    .dataframe tbody tr th:only-of-type {\n",
       "        vertical-align: middle;\n",
       "    }\n",
       "\n",
       "    .dataframe tbody tr th {\n",
       "        vertical-align: top;\n",
       "    }\n",
       "\n",
       "    .dataframe thead th {\n",
       "        text-align: right;\n",
       "    }\n",
       "</style>\n",
       "<table border=\"1\" class=\"dataframe\">\n",
       "  <thead>\n",
       "    <tr style=\"text-align: right;\">\n",
       "      <th></th>\n",
       "      <th>Product_ID</th>\n",
       "      <th>Product_Type</th>\n",
       "      <th>Model</th>\n",
       "      <th>Release_Date</th>\n",
       "      <th>Price</th>\n",
       "      <th>In_Stock</th>\n",
       "      <th>Category_Type</th>\n",
       "    </tr>\n",
       "  </thead>\n",
       "  <tbody>\n",
       "    <tr>\n",
       "      <th>0</th>\n",
       "      <td>1</td>\n",
       "      <td>MacBook</td>\n",
       "      <td>MacBook Pro 13\"</td>\n",
       "      <td>2021-05-21</td>\n",
       "      <td>1299.99</td>\n",
       "      <td>True</td>\n",
       "      <td>desktop</td>\n",
       "    </tr>\n",
       "    <tr>\n",
       "      <th>1</th>\n",
       "      <td>2</td>\n",
       "      <td>iPad</td>\n",
       "      <td>iPad Air</td>\n",
       "      <td>2022-03-18</td>\n",
       "      <td>599.99</td>\n",
       "      <td>False</td>\n",
       "      <td>mobile</td>\n",
       "    </tr>\n",
       "    <tr>\n",
       "      <th>2</th>\n",
       "      <td>3</td>\n",
       "      <td>iPhone</td>\n",
       "      <td>iPhone 13</td>\n",
       "      <td>2023-09-24</td>\n",
       "      <td>999.99</td>\n",
       "      <td>True</td>\n",
       "      <td>mobile</td>\n",
       "    </tr>\n",
       "    <tr>\n",
       "      <th>3</th>\n",
       "      <td>4</td>\n",
       "      <td>Watch</td>\n",
       "      <td>Watch Series 7</td>\n",
       "      <td>2021-10-15</td>\n",
       "      <td>399.99</td>\n",
       "      <td>True</td>\n",
       "      <td>wearable</td>\n",
       "    </tr>\n",
       "    <tr>\n",
       "      <th>4</th>\n",
       "      <td>5</td>\n",
       "      <td>AirPods</td>\n",
       "      <td>AirPods Pro</td>\n",
       "      <td>2021-05-18</td>\n",
       "      <td>249.99</td>\n",
       "      <td>False</td>\n",
       "      <td>wearable</td>\n",
       "    </tr>\n",
       "    <tr>\n",
       "      <th>5</th>\n",
       "      <td>6</td>\n",
       "      <td>MacMini</td>\n",
       "      <td>NaN</td>\n",
       "      <td>NaN</td>\n",
       "      <td>699.99</td>\n",
       "      <td>True</td>\n",
       "      <td>desktop</td>\n",
       "    </tr>\n",
       "    <tr>\n",
       "      <th>6</th>\n",
       "      <td>7</td>\n",
       "      <td>NaN</td>\n",
       "      <td>MacMini M1</td>\n",
       "      <td>2020-11-17</td>\n",
       "      <td>NaN</td>\n",
       "      <td>False</td>\n",
       "      <td>desktop</td>\n",
       "    </tr>\n",
       "    <tr>\n",
       "      <th>7</th>\n",
       "      <td>8</td>\n",
       "      <td>MacBook Air</td>\n",
       "      <td>MacBook Air M1</td>\n",
       "      <td>2020-12-22</td>\n",
       "      <td>999.99</td>\n",
       "      <td>NaN</td>\n",
       "      <td>desktop</td>\n",
       "    </tr>\n",
       "  </tbody>\n",
       "</table>\n",
       "</div>"
      ],
      "text/plain": [
       "   Product_ID Product_Type            Model Release_Date    Price In_Stock  \\\n",
       "0           1      MacBook  MacBook Pro 13\"   2021-05-21  1299.99     True   \n",
       "1           2         iPad         iPad Air   2022-03-18   599.99    False   \n",
       "2           3       iPhone        iPhone 13   2023-09-24   999.99     True   \n",
       "3           4        Watch   Watch Series 7   2021-10-15   399.99     True   \n",
       "4           5      AirPods      AirPods Pro   2021-05-18   249.99    False   \n",
       "5           6      MacMini              NaN          NaN   699.99     True   \n",
       "6           7          NaN       MacMini M1   2020-11-17      NaN    False   \n",
       "7           8  MacBook Air   MacBook Air M1   2020-12-22   999.99      NaN   \n",
       "\n",
       "  Category_Type  \n",
       "0       desktop  \n",
       "1        mobile  \n",
       "2        mobile  \n",
       "3      wearable  \n",
       "4      wearable  \n",
       "5       desktop  \n",
       "6       desktop  \n",
       "7       desktop  "
      ]
     },
     "execution_count": 7,
     "metadata": {},
     "output_type": "execute_result"
    }
   ],
   "source": [
    "df = pd.read_csv('df_apple.csv')\n",
    "df"
   ]
  },
  {
   "cell_type": "markdown",
   "id": "cf9056d1",
   "metadata": {},
   "source": [
    "Think of .iloc[] like this:\n",
    " \"I want row number 0 and column number 1.\"\n",
    "\n",
    "Row and column numbers start at 0.\n",
    "\n",
    "You give the position, not the name."
   ]
  },
  {
   "cell_type": "code",
   "execution_count": 15,
   "id": "898af38f",
   "metadata": {},
   "outputs": [
    {
     "data": {
      "text/plain": [
       "Product_ID                     1\n",
       "Product_Type             MacBook\n",
       "Model            MacBook Pro 13\"\n",
       "Release_Date          2021-05-21\n",
       "Price                    1299.99\n",
       "In_Stock                    True\n",
       "Category_Type            desktop\n",
       "Name: 0, dtype: object"
      ]
     },
     "execution_count": 15,
     "metadata": {},
     "output_type": "execute_result"
    }
   ],
   "source": [
    "# Select one row (by number)\n",
    "\n",
    "df.iloc[0]"
   ]
  },
  {
   "cell_type": "code",
   "execution_count": 17,
   "id": "89d6cd4d",
   "metadata": {},
   "outputs": [
    {
     "data": {
      "text/plain": [
       "'MacBook'"
      ]
     },
     "execution_count": 17,
     "metadata": {},
     "output_type": "execute_result"
    }
   ],
   "source": [
    "# Select one value (row 0, column 1)\n",
    "\n",
    "df.iloc[0,1]"
   ]
  },
  {
   "cell_type": "code",
   "execution_count": 21,
   "id": "0be07181",
   "metadata": {},
   "outputs": [
    {
     "data": {
      "text/html": [
       "<div>\n",
       "<style scoped>\n",
       "    .dataframe tbody tr th:only-of-type {\n",
       "        vertical-align: middle;\n",
       "    }\n",
       "\n",
       "    .dataframe tbody tr th {\n",
       "        vertical-align: top;\n",
       "    }\n",
       "\n",
       "    .dataframe thead th {\n",
       "        text-align: right;\n",
       "    }\n",
       "</style>\n",
       "<table border=\"1\" class=\"dataframe\">\n",
       "  <thead>\n",
       "    <tr style=\"text-align: right;\">\n",
       "      <th></th>\n",
       "      <th>Product_Type</th>\n",
       "      <th>Price</th>\n",
       "    </tr>\n",
       "  </thead>\n",
       "  <tbody>\n",
       "    <tr>\n",
       "      <th>0</th>\n",
       "      <td>MacBook</td>\n",
       "      <td>1299.99</td>\n",
       "    </tr>\n",
       "    <tr>\n",
       "      <th>1</th>\n",
       "      <td>iPad</td>\n",
       "      <td>599.99</td>\n",
       "    </tr>\n",
       "  </tbody>\n",
       "</table>\n",
       "</div>"
      ],
      "text/plain": [
       "  Product_Type    Price\n",
       "0      MacBook  1299.99\n",
       "1         iPad   599.99"
      ]
     },
     "execution_count": 21,
     "metadata": {},
     "output_type": "execute_result"
    }
   ],
   "source": [
    "# Select rows 0, 1 and columns 1, 4 (Product_Type, Price)\n",
    "\n",
    "df.iloc[[0,1],[1,4]]"
   ]
  },
  {
   "cell_type": "code",
   "execution_count": 23,
   "id": "5dba6943",
   "metadata": {},
   "outputs": [
    {
     "data": {
      "text/html": [
       "<div>\n",
       "<style scoped>\n",
       "    .dataframe tbody tr th:only-of-type {\n",
       "        vertical-align: middle;\n",
       "    }\n",
       "\n",
       "    .dataframe tbody tr th {\n",
       "        vertical-align: top;\n",
       "    }\n",
       "\n",
       "    .dataframe thead th {\n",
       "        text-align: right;\n",
       "    }\n",
       "</style>\n",
       "<table border=\"1\" class=\"dataframe\">\n",
       "  <thead>\n",
       "    <tr style=\"text-align: right;\">\n",
       "      <th></th>\n",
       "      <th>Product_Type</th>\n",
       "      <th>Model</th>\n",
       "      <th>Release_Date</th>\n",
       "    </tr>\n",
       "  </thead>\n",
       "  <tbody>\n",
       "    <tr>\n",
       "      <th>0</th>\n",
       "      <td>MacBook</td>\n",
       "      <td>MacBook Pro 13\"</td>\n",
       "      <td>2021-05-21</td>\n",
       "    </tr>\n",
       "    <tr>\n",
       "      <th>1</th>\n",
       "      <td>iPad</td>\n",
       "      <td>iPad Air</td>\n",
       "      <td>2022-03-18</td>\n",
       "    </tr>\n",
       "    <tr>\n",
       "      <th>2</th>\n",
       "      <td>iPhone</td>\n",
       "      <td>iPhone 13</td>\n",
       "      <td>2023-09-24</td>\n",
       "    </tr>\n",
       "    <tr>\n",
       "      <th>3</th>\n",
       "      <td>Watch</td>\n",
       "      <td>Watch Series 7</td>\n",
       "      <td>2021-10-15</td>\n",
       "    </tr>\n",
       "    <tr>\n",
       "      <th>4</th>\n",
       "      <td>AirPods</td>\n",
       "      <td>AirPods Pro</td>\n",
       "      <td>2021-05-18</td>\n",
       "    </tr>\n",
       "    <tr>\n",
       "      <th>5</th>\n",
       "      <td>MacMini</td>\n",
       "      <td>NaN</td>\n",
       "      <td>NaN</td>\n",
       "    </tr>\n",
       "    <tr>\n",
       "      <th>6</th>\n",
       "      <td>NaN</td>\n",
       "      <td>MacMini M1</td>\n",
       "      <td>2020-11-17</td>\n",
       "    </tr>\n",
       "    <tr>\n",
       "      <th>7</th>\n",
       "      <td>MacBook Air</td>\n",
       "      <td>MacBook Air M1</td>\n",
       "      <td>2020-12-22</td>\n",
       "    </tr>\n",
       "  </tbody>\n",
       "</table>\n",
       "</div>"
      ],
      "text/plain": [
       "  Product_Type            Model Release_Date\n",
       "0      MacBook  MacBook Pro 13\"   2021-05-21\n",
       "1         iPad         iPad Air   2022-03-18\n",
       "2       iPhone        iPhone 13   2023-09-24\n",
       "3        Watch   Watch Series 7   2021-10-15\n",
       "4      AirPods      AirPods Pro   2021-05-18\n",
       "5      MacMini              NaN          NaN\n",
       "6          NaN       MacMini M1   2020-11-17\n",
       "7  MacBook Air   MacBook Air M1   2020-12-22"
      ]
     },
     "execution_count": 23,
     "metadata": {},
     "output_type": "execute_result"
    }
   ],
   "source": [
    "# Select all rows, columns 1 to 3\n",
    "\n",
    "df.iloc[:,1:4]"
   ]
  },
  {
   "cell_type": "markdown",
   "id": "cd953048",
   "metadata": {},
   "source": [
    "Think of .loc[] like this:\n",
    "\"I want row label 0 and column named 'Product_Type'.\"\n",
    "\n",
    ".loc[] uses row labels (often integers in your case) and column names."
   ]
  },
  {
   "cell_type": "code",
   "execution_count": 24,
   "id": "3c1adb30",
   "metadata": {},
   "outputs": [
    {
     "data": {
      "text/plain": [
       "Product_ID                2\n",
       "Product_Type           iPad\n",
       "Model              iPad Air\n",
       "Release_Date     2022-03-18\n",
       "Price                599.99\n",
       "In_Stock              False\n",
       "Category_Type        mobile\n",
       "Name: 1, dtype: object"
      ]
     },
     "execution_count": 24,
     "metadata": {},
     "output_type": "execute_result"
    }
   ],
   "source": [
    "# Select one row (label 0)\n",
    "\n",
    "df.loc[1]"
   ]
  },
  {
   "cell_type": "code",
   "execution_count": 26,
   "id": "b5770f4d",
   "metadata": {},
   "outputs": [
    {
     "data": {
      "text/plain": [
       "0        MacBook\n",
       "1           iPad\n",
       "2         iPhone\n",
       "3          Watch\n",
       "4        AirPods\n",
       "5        MacMini\n",
       "6            NaN\n",
       "7    MacBook Air\n",
       "Name: Product_Type, dtype: object"
      ]
     },
     "execution_count": 26,
     "metadata": {},
     "output_type": "execute_result"
    }
   ],
   "source": [
    "#Select one Column\n",
    "\n",
    "df.loc[:,'Product_Type']"
   ]
  },
  {
   "cell_type": "code",
   "execution_count": 27,
   "id": "d7bcf8f9",
   "metadata": {},
   "outputs": [
    {
     "data": {
      "text/plain": [
       "'MacBook'"
      ]
     },
     "execution_count": 27,
     "metadata": {},
     "output_type": "execute_result"
    }
   ],
   "source": [
    "# Select one value (row label 0, column 'Product_Type')\n",
    "\n",
    "df.loc[0,'Product_Type']"
   ]
  },
  {
   "cell_type": "code",
   "execution_count": 33,
   "id": "75a96753",
   "metadata": {},
   "outputs": [
    {
     "data": {
      "text/html": [
       "<div>\n",
       "<style scoped>\n",
       "    .dataframe tbody tr th:only-of-type {\n",
       "        vertical-align: middle;\n",
       "    }\n",
       "\n",
       "    .dataframe tbody tr th {\n",
       "        vertical-align: top;\n",
       "    }\n",
       "\n",
       "    .dataframe thead th {\n",
       "        text-align: right;\n",
       "    }\n",
       "</style>\n",
       "<table border=\"1\" class=\"dataframe\">\n",
       "  <thead>\n",
       "    <tr style=\"text-align: right;\">\n",
       "      <th></th>\n",
       "      <th>Product_Type</th>\n",
       "      <th>Price</th>\n",
       "    </tr>\n",
       "  </thead>\n",
       "  <tbody>\n",
       "    <tr>\n",
       "      <th>0</th>\n",
       "      <td>MacBook</td>\n",
       "      <td>1299.99</td>\n",
       "    </tr>\n",
       "    <tr>\n",
       "      <th>1</th>\n",
       "      <td>iPad</td>\n",
       "      <td>599.99</td>\n",
       "    </tr>\n",
       "  </tbody>\n",
       "</table>\n",
       "</div>"
      ],
      "text/plain": [
       "  Product_Type    Price\n",
       "0      MacBook  1299.99\n",
       "1         iPad   599.99"
      ]
     },
     "execution_count": 33,
     "metadata": {},
     "output_type": "execute_result"
    }
   ],
   "source": [
    "# Select multiple rows and columns (row labels 0, 1; columns Product_Type, Price)\n",
    "\n",
    "df.loc[[0,1],['Product_Type','Price']]"
   ]
  },
  {
   "cell_type": "code",
   "execution_count": 37,
   "id": "c74a3648",
   "metadata": {},
   "outputs": [
    {
     "data": {
      "text/html": [
       "<div>\n",
       "<style scoped>\n",
       "    .dataframe tbody tr th:only-of-type {\n",
       "        vertical-align: middle;\n",
       "    }\n",
       "\n",
       "    .dataframe tbody tr th {\n",
       "        vertical-align: top;\n",
       "    }\n",
       "\n",
       "    .dataframe thead th {\n",
       "        text-align: right;\n",
       "    }\n",
       "</style>\n",
       "<table border=\"1\" class=\"dataframe\">\n",
       "  <thead>\n",
       "    <tr style=\"text-align: right;\">\n",
       "      <th></th>\n",
       "      <th>Product_Type</th>\n",
       "      <th>Model</th>\n",
       "      <th>Release_Date</th>\n",
       "    </tr>\n",
       "  </thead>\n",
       "  <tbody>\n",
       "    <tr>\n",
       "      <th>0</th>\n",
       "      <td>MacBook</td>\n",
       "      <td>MacBook Pro 13\"</td>\n",
       "      <td>2021-05-21</td>\n",
       "    </tr>\n",
       "    <tr>\n",
       "      <th>1</th>\n",
       "      <td>iPad</td>\n",
       "      <td>iPad Air</td>\n",
       "      <td>2022-03-18</td>\n",
       "    </tr>\n",
       "    <tr>\n",
       "      <th>2</th>\n",
       "      <td>iPhone</td>\n",
       "      <td>iPhone 13</td>\n",
       "      <td>2023-09-24</td>\n",
       "    </tr>\n",
       "    <tr>\n",
       "      <th>3</th>\n",
       "      <td>Watch</td>\n",
       "      <td>Watch Series 7</td>\n",
       "      <td>2021-10-15</td>\n",
       "    </tr>\n",
       "    <tr>\n",
       "      <th>4</th>\n",
       "      <td>AirPods</td>\n",
       "      <td>AirPods Pro</td>\n",
       "      <td>2021-05-18</td>\n",
       "    </tr>\n",
       "    <tr>\n",
       "      <th>5</th>\n",
       "      <td>MacMini</td>\n",
       "      <td>NaN</td>\n",
       "      <td>NaN</td>\n",
       "    </tr>\n",
       "    <tr>\n",
       "      <th>6</th>\n",
       "      <td>NaN</td>\n",
       "      <td>MacMini M1</td>\n",
       "      <td>2020-11-17</td>\n",
       "    </tr>\n",
       "    <tr>\n",
       "      <th>7</th>\n",
       "      <td>MacBook Air</td>\n",
       "      <td>MacBook Air M1</td>\n",
       "      <td>2020-12-22</td>\n",
       "    </tr>\n",
       "  </tbody>\n",
       "</table>\n",
       "</div>"
      ],
      "text/plain": [
       "  Product_Type            Model Release_Date\n",
       "0      MacBook  MacBook Pro 13\"   2021-05-21\n",
       "1         iPad         iPad Air   2022-03-18\n",
       "2       iPhone        iPhone 13   2023-09-24\n",
       "3        Watch   Watch Series 7   2021-10-15\n",
       "4      AirPods      AirPods Pro   2021-05-18\n",
       "5      MacMini              NaN          NaN\n",
       "6          NaN       MacMini M1   2020-11-17\n",
       "7  MacBook Air   MacBook Air M1   2020-12-22"
      ]
     },
     "execution_count": 37,
     "metadata": {},
     "output_type": "execute_result"
    }
   ],
   "source": [
    "#  Select all rows, columns 'Product_Type' to 'Release_Date'\n",
    "\n",
    "df.loc[:, 'Product_Type':'Release_Date']"
   ]
  },
  {
   "cell_type": "markdown",
   "id": "b0fab39f",
   "metadata": {},
   "source": [
    "Question 1:\n",
    "Get the first row using .iloc[].\n",
    "\n",
    "Question 2:\n",
    "Get the value from row 2 (3rd row) and column 1 (Product_Type) using .iloc[].\n",
    "\n",
    "Question 3:\n",
    "Get the first 3 rows and columns Product_Type and Price using .iloc[].\n",
    "\n",
    "Question 4:\n",
    "Get all rows and columns Product_ID, Product_Type, Model using .iloc[]."
   ]
  },
  {
   "cell_type": "code",
   "execution_count": 38,
   "id": "4c64fc0a",
   "metadata": {},
   "outputs": [
    {
     "data": {
      "text/plain": [
       "Product_ID                     1\n",
       "Product_Type             MacBook\n",
       "Model            MacBook Pro 13\"\n",
       "Release_Date          2021-05-21\n",
       "Price                    1299.99\n",
       "In_Stock                    True\n",
       "Category_Type            desktop\n",
       "Name: 0, dtype: object"
      ]
     },
     "execution_count": 38,
     "metadata": {},
     "output_type": "execute_result"
    }
   ],
   "source": [
    "df.iloc[0]"
   ]
  },
  {
   "cell_type": "code",
   "execution_count": 40,
   "id": "3438db65",
   "metadata": {},
   "outputs": [
    {
     "data": {
      "text/plain": [
       "'iPhone'"
      ]
     },
     "execution_count": 40,
     "metadata": {},
     "output_type": "execute_result"
    }
   ],
   "source": [
    "df.iloc[2,1]"
   ]
  },
  {
   "cell_type": "code",
   "execution_count": 46,
   "id": "e2ddc1c9",
   "metadata": {},
   "outputs": [
    {
     "data": {
      "text/html": [
       "<div>\n",
       "<style scoped>\n",
       "    .dataframe tbody tr th:only-of-type {\n",
       "        vertical-align: middle;\n",
       "    }\n",
       "\n",
       "    .dataframe tbody tr th {\n",
       "        vertical-align: top;\n",
       "    }\n",
       "\n",
       "    .dataframe thead th {\n",
       "        text-align: right;\n",
       "    }\n",
       "</style>\n",
       "<table border=\"1\" class=\"dataframe\">\n",
       "  <thead>\n",
       "    <tr style=\"text-align: right;\">\n",
       "      <th></th>\n",
       "      <th>Product_Type</th>\n",
       "      <th>Price</th>\n",
       "    </tr>\n",
       "  </thead>\n",
       "  <tbody>\n",
       "    <tr>\n",
       "      <th>0</th>\n",
       "      <td>MacBook</td>\n",
       "      <td>1299.99</td>\n",
       "    </tr>\n",
       "    <tr>\n",
       "      <th>1</th>\n",
       "      <td>iPad</td>\n",
       "      <td>599.99</td>\n",
       "    </tr>\n",
       "    <tr>\n",
       "      <th>2</th>\n",
       "      <td>iPhone</td>\n",
       "      <td>999.99</td>\n",
       "    </tr>\n",
       "  </tbody>\n",
       "</table>\n",
       "</div>"
      ],
      "text/plain": [
       "  Product_Type    Price\n",
       "0      MacBook  1299.99\n",
       "1         iPad   599.99\n",
       "2       iPhone   999.99"
      ]
     },
     "execution_count": 46,
     "metadata": {},
     "output_type": "execute_result"
    }
   ],
   "source": [
    "df.iloc[0:3,[1,4]]"
   ]
  },
  {
   "cell_type": "code",
   "execution_count": 47,
   "id": "4f0f9b89",
   "metadata": {},
   "outputs": [
    {
     "data": {
      "text/html": [
       "<div>\n",
       "<style scoped>\n",
       "    .dataframe tbody tr th:only-of-type {\n",
       "        vertical-align: middle;\n",
       "    }\n",
       "\n",
       "    .dataframe tbody tr th {\n",
       "        vertical-align: top;\n",
       "    }\n",
       "\n",
       "    .dataframe thead th {\n",
       "        text-align: right;\n",
       "    }\n",
       "</style>\n",
       "<table border=\"1\" class=\"dataframe\">\n",
       "  <thead>\n",
       "    <tr style=\"text-align: right;\">\n",
       "      <th></th>\n",
       "      <th>Product_ID</th>\n",
       "      <th>Product_Type</th>\n",
       "      <th>Model</th>\n",
       "      <th>Release_Date</th>\n",
       "      <th>Price</th>\n",
       "      <th>In_Stock</th>\n",
       "      <th>Category_Type</th>\n",
       "    </tr>\n",
       "  </thead>\n",
       "  <tbody>\n",
       "    <tr>\n",
       "      <th>0</th>\n",
       "      <td>1</td>\n",
       "      <td>MacBook</td>\n",
       "      <td>MacBook Pro 13\"</td>\n",
       "      <td>2021-05-21</td>\n",
       "      <td>1299.99</td>\n",
       "      <td>True</td>\n",
       "      <td>desktop</td>\n",
       "    </tr>\n",
       "    <tr>\n",
       "      <th>1</th>\n",
       "      <td>2</td>\n",
       "      <td>iPad</td>\n",
       "      <td>iPad Air</td>\n",
       "      <td>2022-03-18</td>\n",
       "      <td>599.99</td>\n",
       "      <td>False</td>\n",
       "      <td>mobile</td>\n",
       "    </tr>\n",
       "    <tr>\n",
       "      <th>2</th>\n",
       "      <td>3</td>\n",
       "      <td>iPhone</td>\n",
       "      <td>iPhone 13</td>\n",
       "      <td>2023-09-24</td>\n",
       "      <td>999.99</td>\n",
       "      <td>True</td>\n",
       "      <td>mobile</td>\n",
       "    </tr>\n",
       "    <tr>\n",
       "      <th>3</th>\n",
       "      <td>4</td>\n",
       "      <td>Watch</td>\n",
       "      <td>Watch Series 7</td>\n",
       "      <td>2021-10-15</td>\n",
       "      <td>399.99</td>\n",
       "      <td>True</td>\n",
       "      <td>wearable</td>\n",
       "    </tr>\n",
       "    <tr>\n",
       "      <th>4</th>\n",
       "      <td>5</td>\n",
       "      <td>AirPods</td>\n",
       "      <td>AirPods Pro</td>\n",
       "      <td>2021-05-18</td>\n",
       "      <td>249.99</td>\n",
       "      <td>False</td>\n",
       "      <td>wearable</td>\n",
       "    </tr>\n",
       "    <tr>\n",
       "      <th>5</th>\n",
       "      <td>6</td>\n",
       "      <td>MacMini</td>\n",
       "      <td>NaN</td>\n",
       "      <td>NaN</td>\n",
       "      <td>699.99</td>\n",
       "      <td>True</td>\n",
       "      <td>desktop</td>\n",
       "    </tr>\n",
       "    <tr>\n",
       "      <th>6</th>\n",
       "      <td>7</td>\n",
       "      <td>NaN</td>\n",
       "      <td>MacMini M1</td>\n",
       "      <td>2020-11-17</td>\n",
       "      <td>NaN</td>\n",
       "      <td>False</td>\n",
       "      <td>desktop</td>\n",
       "    </tr>\n",
       "    <tr>\n",
       "      <th>7</th>\n",
       "      <td>8</td>\n",
       "      <td>MacBook Air</td>\n",
       "      <td>MacBook Air M1</td>\n",
       "      <td>2020-12-22</td>\n",
       "      <td>999.99</td>\n",
       "      <td>NaN</td>\n",
       "      <td>desktop</td>\n",
       "    </tr>\n",
       "  </tbody>\n",
       "</table>\n",
       "</div>"
      ],
      "text/plain": [
       "   Product_ID Product_Type            Model Release_Date    Price In_Stock  \\\n",
       "0           1      MacBook  MacBook Pro 13\"   2021-05-21  1299.99     True   \n",
       "1           2         iPad         iPad Air   2022-03-18   599.99    False   \n",
       "2           3       iPhone        iPhone 13   2023-09-24   999.99     True   \n",
       "3           4        Watch   Watch Series 7   2021-10-15   399.99     True   \n",
       "4           5      AirPods      AirPods Pro   2021-05-18   249.99    False   \n",
       "5           6      MacMini              NaN          NaN   699.99     True   \n",
       "6           7          NaN       MacMini M1   2020-11-17      NaN    False   \n",
       "7           8  MacBook Air   MacBook Air M1   2020-12-22   999.99      NaN   \n",
       "\n",
       "  Category_Type  \n",
       "0       desktop  \n",
       "1        mobile  \n",
       "2        mobile  \n",
       "3      wearable  \n",
       "4      wearable  \n",
       "5       desktop  \n",
       "6       desktop  \n",
       "7       desktop  "
      ]
     },
     "execution_count": 47,
     "metadata": {},
     "output_type": "execute_result"
    }
   ],
   "source": [
    "df.iloc[:,:]"
   ]
  },
  {
   "cell_type": "markdown",
   "id": "5c483389",
   "metadata": {},
   "source": [
    "Question 5:\n",
    "Get the row with index 4 using .loc[].\n",
    "\n",
    "Question 6:\n",
    "Get the value of 'Price' from the row with index 1 using .loc[].\n",
    "\n",
    "Question 7:\n",
    "Get rows 0 to 2 and columns 'Product_Type' and 'Price' using .loc[].\n",
    "\n",
    "Question 8:\n",
    "Get all rows and columns from 'Product_Type' to 'Release_Date' using .loc[]."
   ]
  },
  {
   "cell_type": "code",
   "execution_count": 48,
   "id": "706dc55b",
   "metadata": {},
   "outputs": [
    {
     "data": {
      "text/html": [
       "<div>\n",
       "<style scoped>\n",
       "    .dataframe tbody tr th:only-of-type {\n",
       "        vertical-align: middle;\n",
       "    }\n",
       "\n",
       "    .dataframe tbody tr th {\n",
       "        vertical-align: top;\n",
       "    }\n",
       "\n",
       "    .dataframe thead th {\n",
       "        text-align: right;\n",
       "    }\n",
       "</style>\n",
       "<table border=\"1\" class=\"dataframe\">\n",
       "  <thead>\n",
       "    <tr style=\"text-align: right;\">\n",
       "      <th></th>\n",
       "      <th>Product_ID</th>\n",
       "      <th>Product_Type</th>\n",
       "      <th>Model</th>\n",
       "      <th>Release_Date</th>\n",
       "      <th>Price</th>\n",
       "      <th>In_Stock</th>\n",
       "      <th>Category_Type</th>\n",
       "    </tr>\n",
       "  </thead>\n",
       "  <tbody>\n",
       "    <tr>\n",
       "      <th>0</th>\n",
       "      <td>1</td>\n",
       "      <td>MacBook</td>\n",
       "      <td>MacBook Pro 13\"</td>\n",
       "      <td>2021-05-21</td>\n",
       "      <td>1299.99</td>\n",
       "      <td>True</td>\n",
       "      <td>desktop</td>\n",
       "    </tr>\n",
       "    <tr>\n",
       "      <th>1</th>\n",
       "      <td>2</td>\n",
       "      <td>iPad</td>\n",
       "      <td>iPad Air</td>\n",
       "      <td>2022-03-18</td>\n",
       "      <td>599.99</td>\n",
       "      <td>False</td>\n",
       "      <td>mobile</td>\n",
       "    </tr>\n",
       "    <tr>\n",
       "      <th>2</th>\n",
       "      <td>3</td>\n",
       "      <td>iPhone</td>\n",
       "      <td>iPhone 13</td>\n",
       "      <td>2023-09-24</td>\n",
       "      <td>999.99</td>\n",
       "      <td>True</td>\n",
       "      <td>mobile</td>\n",
       "    </tr>\n",
       "    <tr>\n",
       "      <th>3</th>\n",
       "      <td>4</td>\n",
       "      <td>Watch</td>\n",
       "      <td>Watch Series 7</td>\n",
       "      <td>2021-10-15</td>\n",
       "      <td>399.99</td>\n",
       "      <td>True</td>\n",
       "      <td>wearable</td>\n",
       "    </tr>\n",
       "    <tr>\n",
       "      <th>4</th>\n",
       "      <td>5</td>\n",
       "      <td>AirPods</td>\n",
       "      <td>AirPods Pro</td>\n",
       "      <td>2021-05-18</td>\n",
       "      <td>249.99</td>\n",
       "      <td>False</td>\n",
       "      <td>wearable</td>\n",
       "    </tr>\n",
       "    <tr>\n",
       "      <th>5</th>\n",
       "      <td>6</td>\n",
       "      <td>MacMini</td>\n",
       "      <td>NaN</td>\n",
       "      <td>NaN</td>\n",
       "      <td>699.99</td>\n",
       "      <td>True</td>\n",
       "      <td>desktop</td>\n",
       "    </tr>\n",
       "    <tr>\n",
       "      <th>6</th>\n",
       "      <td>7</td>\n",
       "      <td>NaN</td>\n",
       "      <td>MacMini M1</td>\n",
       "      <td>2020-11-17</td>\n",
       "      <td>NaN</td>\n",
       "      <td>False</td>\n",
       "      <td>desktop</td>\n",
       "    </tr>\n",
       "    <tr>\n",
       "      <th>7</th>\n",
       "      <td>8</td>\n",
       "      <td>MacBook Air</td>\n",
       "      <td>MacBook Air M1</td>\n",
       "      <td>2020-12-22</td>\n",
       "      <td>999.99</td>\n",
       "      <td>NaN</td>\n",
       "      <td>desktop</td>\n",
       "    </tr>\n",
       "  </tbody>\n",
       "</table>\n",
       "</div>"
      ],
      "text/plain": [
       "   Product_ID Product_Type            Model Release_Date    Price In_Stock  \\\n",
       "0           1      MacBook  MacBook Pro 13\"   2021-05-21  1299.99     True   \n",
       "1           2         iPad         iPad Air   2022-03-18   599.99    False   \n",
       "2           3       iPhone        iPhone 13   2023-09-24   999.99     True   \n",
       "3           4        Watch   Watch Series 7   2021-10-15   399.99     True   \n",
       "4           5      AirPods      AirPods Pro   2021-05-18   249.99    False   \n",
       "5           6      MacMini              NaN          NaN   699.99     True   \n",
       "6           7          NaN       MacMini M1   2020-11-17      NaN    False   \n",
       "7           8  MacBook Air   MacBook Air M1   2020-12-22   999.99      NaN   \n",
       "\n",
       "  Category_Type  \n",
       "0       desktop  \n",
       "1        mobile  \n",
       "2        mobile  \n",
       "3      wearable  \n",
       "4      wearable  \n",
       "5       desktop  \n",
       "6       desktop  \n",
       "7       desktop  "
      ]
     },
     "execution_count": 48,
     "metadata": {},
     "output_type": "execute_result"
    }
   ],
   "source": [
    "df\n"
   ]
  },
  {
   "cell_type": "code",
   "execution_count": 49,
   "id": "160ce7dd",
   "metadata": {},
   "outputs": [
    {
     "data": {
      "text/plain": [
       "Product_ID                 5\n",
       "Product_Type         AirPods\n",
       "Model            AirPods Pro\n",
       "Release_Date      2021-05-18\n",
       "Price                 249.99\n",
       "In_Stock               False\n",
       "Category_Type       wearable\n",
       "Name: 4, dtype: object"
      ]
     },
     "execution_count": 49,
     "metadata": {},
     "output_type": "execute_result"
    }
   ],
   "source": [
    "df.loc[4]"
   ]
  },
  {
   "cell_type": "code",
   "execution_count": 50,
   "id": "1244331b",
   "metadata": {},
   "outputs": [
    {
     "data": {
      "text/plain": [
       "599.99"
      ]
     },
     "execution_count": 50,
     "metadata": {},
     "output_type": "execute_result"
    }
   ],
   "source": [
    "df.loc[1,'Price']"
   ]
  },
  {
   "cell_type": "code",
   "execution_count": 55,
   "id": "19e19343",
   "metadata": {},
   "outputs": [
    {
     "data": {
      "text/html": [
       "<div>\n",
       "<style scoped>\n",
       "    .dataframe tbody tr th:only-of-type {\n",
       "        vertical-align: middle;\n",
       "    }\n",
       "\n",
       "    .dataframe tbody tr th {\n",
       "        vertical-align: top;\n",
       "    }\n",
       "\n",
       "    .dataframe thead th {\n",
       "        text-align: right;\n",
       "    }\n",
       "</style>\n",
       "<table border=\"1\" class=\"dataframe\">\n",
       "  <thead>\n",
       "    <tr style=\"text-align: right;\">\n",
       "      <th></th>\n",
       "      <th>Product_Type</th>\n",
       "      <th>Price</th>\n",
       "    </tr>\n",
       "  </thead>\n",
       "  <tbody>\n",
       "    <tr>\n",
       "      <th>0</th>\n",
       "      <td>MacBook</td>\n",
       "      <td>1299.99</td>\n",
       "    </tr>\n",
       "    <tr>\n",
       "      <th>1</th>\n",
       "      <td>iPad</td>\n",
       "      <td>599.99</td>\n",
       "    </tr>\n",
       "    <tr>\n",
       "      <th>2</th>\n",
       "      <td>iPhone</td>\n",
       "      <td>999.99</td>\n",
       "    </tr>\n",
       "  </tbody>\n",
       "</table>\n",
       "</div>"
      ],
      "text/plain": [
       "  Product_Type    Price\n",
       "0      MacBook  1299.99\n",
       "1         iPad   599.99\n",
       "2       iPhone   999.99"
      ]
     },
     "execution_count": 55,
     "metadata": {},
     "output_type": "execute_result"
    }
   ],
   "source": [
    "df.loc[0:2,['Product_Type','Price']]"
   ]
  },
  {
   "cell_type": "code",
   "execution_count": 58,
   "id": "4649fced",
   "metadata": {},
   "outputs": [
    {
     "data": {
      "text/html": [
       "<div>\n",
       "<style scoped>\n",
       "    .dataframe tbody tr th:only-of-type {\n",
       "        vertical-align: middle;\n",
       "    }\n",
       "\n",
       "    .dataframe tbody tr th {\n",
       "        vertical-align: top;\n",
       "    }\n",
       "\n",
       "    .dataframe thead th {\n",
       "        text-align: right;\n",
       "    }\n",
       "</style>\n",
       "<table border=\"1\" class=\"dataframe\">\n",
       "  <thead>\n",
       "    <tr style=\"text-align: right;\">\n",
       "      <th></th>\n",
       "      <th>Product_Type</th>\n",
       "      <th>Model</th>\n",
       "      <th>Release_Date</th>\n",
       "    </tr>\n",
       "  </thead>\n",
       "  <tbody>\n",
       "    <tr>\n",
       "      <th>0</th>\n",
       "      <td>MacBook</td>\n",
       "      <td>MacBook Pro 13\"</td>\n",
       "      <td>2021-05-21</td>\n",
       "    </tr>\n",
       "    <tr>\n",
       "      <th>1</th>\n",
       "      <td>iPad</td>\n",
       "      <td>iPad Air</td>\n",
       "      <td>2022-03-18</td>\n",
       "    </tr>\n",
       "    <tr>\n",
       "      <th>2</th>\n",
       "      <td>iPhone</td>\n",
       "      <td>iPhone 13</td>\n",
       "      <td>2023-09-24</td>\n",
       "    </tr>\n",
       "    <tr>\n",
       "      <th>3</th>\n",
       "      <td>Watch</td>\n",
       "      <td>Watch Series 7</td>\n",
       "      <td>2021-10-15</td>\n",
       "    </tr>\n",
       "    <tr>\n",
       "      <th>4</th>\n",
       "      <td>AirPods</td>\n",
       "      <td>AirPods Pro</td>\n",
       "      <td>2021-05-18</td>\n",
       "    </tr>\n",
       "    <tr>\n",
       "      <th>5</th>\n",
       "      <td>MacMini</td>\n",
       "      <td>NaN</td>\n",
       "      <td>NaN</td>\n",
       "    </tr>\n",
       "    <tr>\n",
       "      <th>6</th>\n",
       "      <td>NaN</td>\n",
       "      <td>MacMini M1</td>\n",
       "      <td>2020-11-17</td>\n",
       "    </tr>\n",
       "    <tr>\n",
       "      <th>7</th>\n",
       "      <td>MacBook Air</td>\n",
       "      <td>MacBook Air M1</td>\n",
       "      <td>2020-12-22</td>\n",
       "    </tr>\n",
       "  </tbody>\n",
       "</table>\n",
       "</div>"
      ],
      "text/plain": [
       "  Product_Type            Model Release_Date\n",
       "0      MacBook  MacBook Pro 13\"   2021-05-21\n",
       "1         iPad         iPad Air   2022-03-18\n",
       "2       iPhone        iPhone 13   2023-09-24\n",
       "3        Watch   Watch Series 7   2021-10-15\n",
       "4      AirPods      AirPods Pro   2021-05-18\n",
       "5      MacMini              NaN          NaN\n",
       "6          NaN       MacMini M1   2020-11-17\n",
       "7  MacBook Air   MacBook Air M1   2020-12-22"
      ]
     },
     "execution_count": 58,
     "metadata": {},
     "output_type": "execute_result"
    }
   ],
   "source": [
    "df.loc[:,'Product_Type':'Release_Date']"
   ]
  },
  {
   "cell_type": "code",
   "execution_count": null,
   "id": "0b9f2ee4",
   "metadata": {},
   "outputs": [],
   "source": []
  },
  {
   "cell_type": "code",
   "execution_count": null,
   "id": "e0b5a4ab",
   "metadata": {},
   "outputs": [],
   "source": []
  }
 ],
 "metadata": {
  "kernelspec": {
   "display_name": "Python 3 (ipykernel)",
   "language": "python",
   "name": "python3"
  },
  "language_info": {
   "codemirror_mode": {
    "name": "ipython",
    "version": 3
   },
   "file_extension": ".py",
   "mimetype": "text/x-python",
   "name": "python",
   "nbconvert_exporter": "python",
   "pygments_lexer": "ipython3",
   "version": "3.11.5"
  }
 },
 "nbformat": 4,
 "nbformat_minor": 5
}
