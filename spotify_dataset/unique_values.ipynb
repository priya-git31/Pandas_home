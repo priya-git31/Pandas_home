{
 "cells": [
  {
   "cell_type": "code",
   "execution_count": 2,
   "id": "ce39c73a",
   "metadata": {},
   "outputs": [
    {
     "data": {
      "text/html": [
       "<div>\n",
       "<style scoped>\n",
       "    .dataframe tbody tr th:only-of-type {\n",
       "        vertical-align: middle;\n",
       "    }\n",
       "\n",
       "    .dataframe tbody tr th {\n",
       "        vertical-align: top;\n",
       "    }\n",
       "\n",
       "    .dataframe thead th {\n",
       "        text-align: right;\n",
       "    }\n",
       "</style>\n",
       "<table border=\"1\" class=\"dataframe\">\n",
       "  <thead>\n",
       "    <tr style=\"text-align: right;\">\n",
       "      <th></th>\n",
       "      <th>title</th>\n",
       "      <th>artist</th>\n",
       "      <th>top genre</th>\n",
       "      <th>year</th>\n",
       "      <th>beats.per.minute</th>\n",
       "      <th>energy</th>\n",
       "      <th>danceability</th>\n",
       "      <th>loudness.dB</th>\n",
       "      <th>liveness</th>\n",
       "      <th>valance</th>\n",
       "      <th>length</th>\n",
       "      <th>acousticness</th>\n",
       "      <th>speechiness</th>\n",
       "      <th>popularity</th>\n",
       "    </tr>\n",
       "  </thead>\n",
       "  <tbody>\n",
       "    <tr>\n",
       "      <th>0</th>\n",
       "      <td>Blinding Lights</td>\n",
       "      <td>The Weeknd</td>\n",
       "      <td>canadian contemporary r&amp;b</td>\n",
       "      <td>2020</td>\n",
       "      <td>171</td>\n",
       "      <td>73</td>\n",
       "      <td>51</td>\n",
       "      <td>-6</td>\n",
       "      <td>9</td>\n",
       "      <td>33</td>\n",
       "      <td>200</td>\n",
       "      <td>0</td>\n",
       "      <td>6</td>\n",
       "      <td>91</td>\n",
       "    </tr>\n",
       "    <tr>\n",
       "      <th>1</th>\n",
       "      <td>Watermelon Sugar</td>\n",
       "      <td>Harry Styles</td>\n",
       "      <td>pop</td>\n",
       "      <td>2019</td>\n",
       "      <td>95</td>\n",
       "      <td>82</td>\n",
       "      <td>55</td>\n",
       "      <td>-4</td>\n",
       "      <td>34</td>\n",
       "      <td>56</td>\n",
       "      <td>174</td>\n",
       "      <td>12</td>\n",
       "      <td>5</td>\n",
       "      <td>88</td>\n",
       "    </tr>\n",
       "  </tbody>\n",
       "</table>\n",
       "</div>"
      ],
      "text/plain": [
       "              title        artist                  top genre  year  \\\n",
       "0   Blinding Lights    The Weeknd  canadian contemporary r&b  2020   \n",
       "1  Watermelon Sugar  Harry Styles                        pop  2019   \n",
       "\n",
       "   beats.per.minute  energy  danceability  loudness.dB  liveness  valance  \\\n",
       "0               171      73            51           -6         9       33   \n",
       "1                95      82            55           -4        34       56   \n",
       "\n",
       "   length  acousticness  speechiness  popularity  \n",
       "0     200             0            6          91  \n",
       "1     174            12            5          88  "
      ]
     },
     "execution_count": 2,
     "metadata": {},
     "output_type": "execute_result"
    }
   ],
   "source": [
    "import pandas as pd\n",
    "import numpy as np\n",
    "import os\n",
    "\n",
    "df = pd.read_csv('Top 100 most Streamed - Sheet1.csv')\n",
    "df.head(2)"
   ]
  },
  {
   "cell_type": "markdown",
   "id": "be09814d",
   "metadata": {},
   "source": [
    "### 1. unique()\n",
    "\n",
    "Shows the array of distinct values in a column.\n",
    "\n",
    "Includes NaN (NULLs) in the result."
   ]
  },
  {
   "cell_type": "code",
   "execution_count": 3,
   "id": "9b9d042d",
   "metadata": {},
   "outputs": [
    {
     "data": {
      "text/plain": [
       "array(['The Weeknd', 'Harry Styles', '24kGoldn', 'Lewis Capaldi',\n",
       "       'Ed Sheeran', 'Imagine Dragons', 'Billie Eilish', 'Post Malone',\n",
       "       'Maroon 5', 'The Chainsmokers', 'James Arthur', 'Juice WRLD',\n",
       "       'John Legend', 'Ariana Grande', 'XXXTENTACION', 'Travis Scott',\n",
       "       'Avicii', 'DaBaby', 'Twenty One Pilots', 'SAINt JHN',\n",
       "       'Roddy Ricch', 'Justin Bieber', 'Lady Gaga', 'Lil Uzi Vert',\n",
       "       'Hozier', 'Marshmello', 'OneRepublic', 'Macklemore & Ryan Lewis',\n",
       "       'Shawn Mendes', 'Drake', 'Dua Lipa', 'Queen', 'Kendrick Lamar',\n",
       "       'DJ Snake', 'Sam Smith', 'Mark Ronson', 'Lauv', 'The Killers',\n",
       "       'Tones And I', 'Camila Cabello', 'French Montana', 'Vance Joy',\n",
       "       'Bruno Mars', 'Wiz Khalifa', 'Calvin Harris',\n",
       "       '5 Seconds of Summer', 'Lil Nas X', 'Jason Mraz', 'Charlie Puth',\n",
       "       'Lukas Graham', 'Cardi B', 'Luis Fonsi', 'Oasis', 'benny blanco',\n",
       "       'OMI', 'Sia', 'Alan Walker', 'Passenger', 'Justin Timberlake',\n",
       "       'Major Lazer', 'Eminem', 'Halsey', 'Mark Mendy', 'Mike Posner'],\n",
       "      dtype=object)"
      ]
     },
     "execution_count": 3,
     "metadata": {},
     "output_type": "execute_result"
    }
   ],
   "source": [
    "df['artist'].unique\n",
    "# all unique artists"
   ]
  },
  {
   "cell_type": "code",
   "execution_count": 4,
   "id": "31ad6c0c",
   "metadata": {},
   "outputs": [
    {
     "data": {
      "text/plain": [
       "array([2020, 2019, 2021, 2017, 2018, 2016, 2013, 2014, 2015, 2012, 1975,\n",
       "       2004, 2008, 1995])"
      ]
     },
     "execution_count": 4,
     "metadata": {},
     "output_type": "execute_result"
    }
   ],
   "source": [
    "df['year'].unique()\n",
    "# all unique years"
   ]
  },
  {
   "cell_type": "code",
   "execution_count": 7,
   "id": "c032a342",
   "metadata": {},
   "outputs": [
    {
     "data": {
      "text/plain": [
       "array(['canadian contemporary r&b', 'pop', 'cali rap', 'modern rock',\n",
       "       'electropop', 'dfw rap', 'dance pop', 'chicago rap', 'neo soul',\n",
       "       'emo rap', 'rap', 'north carolina hip hop', 'melodic rap',\n",
       "       'canadian pop', 'irish singer-songwriter', 'brostep', 'pop rap',\n",
       "       'canadian hip hop', 'classic rock', 'conscious hip hop',\n",
       "       'alternative rock', 'australian pop', 'gangster rap', 'folk-pop',\n",
       "       'boy band', 'lgbtq+ hip hop', 'acoustic pop', 'danish pop',\n",
       "       'latin', 'beatlesque', 'australian dance', 'electro house',\n",
       "       'detroit hip hop', 'pop dance'], dtype=object)"
      ]
     },
     "execution_count": 7,
     "metadata": {},
     "output_type": "execute_result"
    }
   ],
   "source": [
    "df['top genre'].unique()"
   ]
  },
  {
   "cell_type": "markdown",
   "id": "8eaf0323",
   "metadata": {},
   "source": [
    "### 2. nunique()\n",
    "\n",
    "Returns the number of unique values.\n",
    "\n",
    "By default, it excludes NaN.\n",
    "\n",
    "You can include NaN with: nunique(dropna=False)"
   ]
  },
  {
   "cell_type": "code",
   "execution_count": 8,
   "id": "8d503935",
   "metadata": {},
   "outputs": [
    {
     "data": {
      "text/plain": [
       "64"
      ]
     },
     "execution_count": 8,
     "metadata": {},
     "output_type": "execute_result"
    }
   ],
   "source": [
    "df['artist'].nunique()"
   ]
  },
  {
   "cell_type": "code",
   "execution_count": 9,
   "id": "6e139330",
   "metadata": {},
   "outputs": [
    {
     "data": {
      "text/plain": [
       "14"
      ]
     },
     "execution_count": 9,
     "metadata": {},
     "output_type": "execute_result"
    }
   ],
   "source": [
    "df['year'].nunique()"
   ]
  },
  {
   "cell_type": "code",
   "execution_count": 11,
   "id": "70746b4e",
   "metadata": {},
   "outputs": [
    {
     "data": {
      "text/plain": [
       "34"
      ]
     },
     "execution_count": 11,
     "metadata": {},
     "output_type": "execute_result"
    }
   ],
   "source": [
    "df['top genre'].nunique()"
   ]
  },
  {
   "cell_type": "markdown",
   "id": "1c127bd2",
   "metadata": {},
   "source": [
    "### Practice Questions"
   ]
  },
  {
   "cell_type": "code",
   "execution_count": 12,
   "id": "1697bd86",
   "metadata": {},
   "outputs": [
    {
     "data": {
      "text/plain": [
       "array(['The Weeknd', 'Harry Styles', '24kGoldn', 'Lewis Capaldi',\n",
       "       'Ed Sheeran', 'Imagine Dragons', 'Billie Eilish', 'Post Malone',\n",
       "       'Maroon 5', 'The Chainsmokers', 'James Arthur', 'Juice WRLD',\n",
       "       'John Legend', 'Ariana Grande', 'XXXTENTACION', 'Travis Scott',\n",
       "       'Avicii', 'DaBaby', 'Twenty One Pilots', 'SAINt JHN',\n",
       "       'Roddy Ricch', 'Justin Bieber', 'Lady Gaga', 'Lil Uzi Vert',\n",
       "       'Hozier', 'Marshmello', 'OneRepublic', 'Macklemore & Ryan Lewis',\n",
       "       'Shawn Mendes', 'Drake', 'Dua Lipa', 'Queen', 'Kendrick Lamar',\n",
       "       'DJ Snake', 'Sam Smith', 'Mark Ronson', 'Lauv', 'The Killers',\n",
       "       'Tones And I', 'Camila Cabello', 'French Montana', 'Vance Joy',\n",
       "       'Bruno Mars', 'Wiz Khalifa', 'Calvin Harris',\n",
       "       '5 Seconds of Summer', 'Lil Nas X', 'Jason Mraz', 'Charlie Puth',\n",
       "       'Lukas Graham', 'Cardi B', 'Luis Fonsi', 'Oasis', 'benny blanco',\n",
       "       'OMI', 'Sia', 'Alan Walker', 'Passenger', 'Justin Timberlake',\n",
       "       'Major Lazer', 'Eminem', 'Halsey', 'Mark Mendy', 'Mike Posner'],\n",
       "      dtype=object)"
      ]
     },
     "execution_count": 12,
     "metadata": {},
     "output_type": "execute_result"
    }
   ],
   "source": [
    "# Find all unique artists in the top 100.\n",
    "\n",
    "df['artist'].unique()"
   ]
  },
  {
   "cell_type": "code",
   "execution_count": 13,
   "id": "a9bff496",
   "metadata": {},
   "outputs": [
    {
     "data": {
      "text/plain": [
       "64"
      ]
     },
     "execution_count": 13,
     "metadata": {},
     "output_type": "execute_result"
    }
   ],
   "source": [
    "# Count how many unique artists are in the dataset.\n",
    "\n",
    "df['artist'].nunique()"
   ]
  },
  {
   "cell_type": "code",
   "execution_count": 14,
   "id": "49672485",
   "metadata": {},
   "outputs": [
    {
     "data": {
      "text/plain": [
       "14"
      ]
     },
     "execution_count": 14,
     "metadata": {},
     "output_type": "execute_result"
    }
   ],
   "source": [
    "# Count how many unique years songs were released.\n",
    "\n",
    "df['year'].nunique()"
   ]
  },
  {
   "cell_type": "code",
   "execution_count": 16,
   "id": "cc56ba10",
   "metadata": {},
   "outputs": [
    {
     "data": {
      "text/plain": [
       "array(['Blinding Lights', 'Watermelon Sugar', 'Mood (feat. iann dior)',\n",
       "       'Someone You Loved', 'Perfect', 'Believer', 'lovely (with Khalid)',\n",
       "       'Circles', 'Shape of You', 'Memories', 'Closer', 'bad guy',\n",
       "       \"Say You Won't Let Go\", 'Lucid Dreams', 'All of Me', '7 rings',\n",
       "       'Jocelyn Flores', 'goosebumps', 'Wake Me Up',\n",
       "       'ROCKSTAR (feat. Roddy Ricch)', 'rockstar (feat. 21 Savage)',\n",
       "       'Photograph', 'SAD!', 'SICKO MODE', 'Stressed Out',\n",
       "       'Roses - Imanbek Remix', 'The Box', 'The Hills',\n",
       "       'Sunflower - Spider-Man: Into the Spider-Verse',\n",
       "       'Thinking out Loud', 'Starboy', 'Love Yourself',\n",
       "       'Something Just Like This', 'Shallow', 'Thunder', 'XO Tour Llif3',\n",
       "       'Take Me To Church', 'Happier', 'thank u, next', 'Counting Stars',\n",
       "       \"Can't Hold Us - feat. Ray Dalton\", 'Señorita', \"God's Plan\",\n",
       "       \"Don't Start Now\", 'Bohemian Rhapsody - Remastered 2011',\n",
       "       'HUMBLE.', 'Let Me Love You', 'Congratulations', 'Stay With Me',\n",
       "       'Treat You Better', 'Uptown Funk (feat. Bruno Mars)',\n",
       "       'I Like Me Better', \"when the party's over\", 'Mr. Brightside',\n",
       "       'Dance Monkey', 'Havana (feat. Young Thug)', 'Better Now',\n",
       "       \"I Don't Care (with Justin Bieber)\", 'Unforgettable',\n",
       "       'Too Good At Goodbyes', 'Riptide', \"That's What I Like\",\n",
       "       'See You Again (feat. Charlie Puth)', 'One Kiss (with Dua Lipa)',\n",
       "       'Heathens', 'Demons', 'Youngblood', 'Old Town Road - Remix',\n",
       "       \"I'm Yours\", 'Attention', 'New Rules', 'Sorry',\n",
       "       \"Don't Let Me Down\", '7 Years', 'I Like It', 'I Fall Apart',\n",
       "       \"We Don't Talk Anymore (feat. Selena Gomez)\", \"Can't Feel My Face\",\n",
       "       'Despacito', 'Psycho (feat. Ty Dolla $ign)', 'Stitches',\n",
       "       'What Do You Mean?', 'Wonderwall - Remastered', 'Radioactive',\n",
       "       'Eastside (with Halsey & Khalid)',\n",
       "       'Cheerleader - Felix Jaehn Remix Radio Edit', 'Cheap Thrills',\n",
       "       'Girls Like You (feat. Cardi B) - Cardi B Version', 'Faded',\n",
       "       'Let Her Go',\n",
       "       'CAN\\'T STOP THE FEELING! (from DreamWorks Animation\\'s \"TROLLS\")',\n",
       "       'Lean On', 'Despacito - Remix', 'Lose Yourself',\n",
       "       'Without Me (with Juice WRLD)', 'One Dance', 'Sugar', 'Emotions',\n",
       "       'Cold Water', 'I Took A Pill In Ibiza - Seeb Remix'], dtype=object)"
      ]
     },
     "execution_count": 16,
     "metadata": {},
     "output_type": "execute_result"
    }
   ],
   "source": [
    "# Find all unique titles\n",
    "\n",
    "df['title'].unique()\n"
   ]
  },
  {
   "cell_type": "code",
   "execution_count": null,
   "id": "914c7f63",
   "metadata": {},
   "outputs": [],
   "source": []
  }
 ],
 "metadata": {
  "kernelspec": {
   "display_name": "Python 3 (ipykernel)",
   "language": "python",
   "name": "python3"
  },
  "language_info": {
   "codemirror_mode": {
    "name": "ipython",
    "version": 3
   },
   "file_extension": ".py",
   "mimetype": "text/x-python",
   "name": "python",
   "nbconvert_exporter": "python",
   "pygments_lexer": "ipython3",
   "version": "3.11.5"
  }
 },
 "nbformat": 4,
 "nbformat_minor": 5
}
