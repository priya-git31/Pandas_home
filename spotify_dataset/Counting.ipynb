{
 "cells": [
  {
   "cell_type": "code",
   "execution_count": 98,
   "id": "1b5c10b3",
   "metadata": {},
   "outputs": [
    {
     "data": {
      "text/html": [
       "<div>\n",
       "<style scoped>\n",
       "    .dataframe tbody tr th:only-of-type {\n",
       "        vertical-align: middle;\n",
       "    }\n",
       "\n",
       "    .dataframe tbody tr th {\n",
       "        vertical-align: top;\n",
       "    }\n",
       "\n",
       "    .dataframe thead th {\n",
       "        text-align: right;\n",
       "    }\n",
       "</style>\n",
       "<table border=\"1\" class=\"dataframe\">\n",
       "  <thead>\n",
       "    <tr style=\"text-align: right;\">\n",
       "      <th></th>\n",
       "      <th>title</th>\n",
       "      <th>artist</th>\n",
       "      <th>top genre</th>\n",
       "      <th>year</th>\n",
       "      <th>beats.per.minute</th>\n",
       "      <th>energy</th>\n",
       "      <th>danceability</th>\n",
       "      <th>loudness.dB</th>\n",
       "      <th>liveness</th>\n",
       "      <th>valance</th>\n",
       "      <th>length</th>\n",
       "      <th>acousticness</th>\n",
       "      <th>speechiness</th>\n",
       "      <th>popularity</th>\n",
       "    </tr>\n",
       "  </thead>\n",
       "  <tbody>\n",
       "    <tr>\n",
       "      <th>0</th>\n",
       "      <td>Blinding Lights 1</td>\n",
       "      <td>The Weeknd</td>\n",
       "      <td>canadian contemporary r&amp;b</td>\n",
       "      <td>2020</td>\n",
       "      <td>171</td>\n",
       "      <td>73</td>\n",
       "      <td>51</td>\n",
       "      <td>-6</td>\n",
       "      <td>9</td>\n",
       "      <td>33</td>\n",
       "      <td>200</td>\n",
       "      <td>0</td>\n",
       "      <td>6</td>\n",
       "      <td>100</td>\n",
       "    </tr>\n",
       "    <tr>\n",
       "      <th>1</th>\n",
       "      <td>Watermelon Sugar</td>\n",
       "      <td>Harry Styles</td>\n",
       "      <td>pop</td>\n",
       "      <td>2019</td>\n",
       "      <td>95</td>\n",
       "      <td>82</td>\n",
       "      <td>55</td>\n",
       "      <td>-4</td>\n",
       "      <td>34</td>\n",
       "      <td>56</td>\n",
       "      <td>174</td>\n",
       "      <td>12</td>\n",
       "      <td>5</td>\n",
       "      <td>88</td>\n",
       "    </tr>\n",
       "    <tr>\n",
       "      <th>2</th>\n",
       "      <td>Mood (feat. iann dior)</td>\n",
       "      <td>24kGoldn</td>\n",
       "      <td>cali rap</td>\n",
       "      <td>2021</td>\n",
       "      <td>91</td>\n",
       "      <td>72</td>\n",
       "      <td>70</td>\n",
       "      <td>-4</td>\n",
       "      <td>32</td>\n",
       "      <td>73</td>\n",
       "      <td>141</td>\n",
       "      <td>17</td>\n",
       "      <td>4</td>\n",
       "      <td>88</td>\n",
       "    </tr>\n",
       "    <tr>\n",
       "      <th>3</th>\n",
       "      <td>Someone You Loved</td>\n",
       "      <td>Lewis Capaldi</td>\n",
       "      <td>pop</td>\n",
       "      <td>2019</td>\n",
       "      <td>110</td>\n",
       "      <td>41</td>\n",
       "      <td>50</td>\n",
       "      <td>-6</td>\n",
       "      <td>11</td>\n",
       "      <td>45</td>\n",
       "      <td>182</td>\n",
       "      <td>75</td>\n",
       "      <td>3</td>\n",
       "      <td>86</td>\n",
       "    </tr>\n",
       "    <tr>\n",
       "      <th>4</th>\n",
       "      <td>Perfect</td>\n",
       "      <td>Ed Sheeran</td>\n",
       "      <td>pop</td>\n",
       "      <td>2017</td>\n",
       "      <td>95</td>\n",
       "      <td>45</td>\n",
       "      <td>60</td>\n",
       "      <td>-6</td>\n",
       "      <td>11</td>\n",
       "      <td>17</td>\n",
       "      <td>263</td>\n",
       "      <td>16</td>\n",
       "      <td>2</td>\n",
       "      <td>86</td>\n",
       "    </tr>\n",
       "  </tbody>\n",
       "</table>\n",
       "</div>"
      ],
      "text/plain": [
       "                    title         artist                  top genre  year  \\\n",
       "0       Blinding Lights 1     The Weeknd  canadian contemporary r&b  2020   \n",
       "1        Watermelon Sugar   Harry Styles                        pop  2019   \n",
       "2  Mood (feat. iann dior)       24kGoldn                   cali rap  2021   \n",
       "3       Someone You Loved  Lewis Capaldi                        pop  2019   \n",
       "4                 Perfect     Ed Sheeran                        pop  2017   \n",
       "\n",
       "   beats.per.minute  energy  danceability  loudness.dB  liveness  valance  \\\n",
       "0               171      73            51           -6         9       33   \n",
       "1                95      82            55           -4        34       56   \n",
       "2                91      72            70           -4        32       73   \n",
       "3               110      41            50           -6        11       45   \n",
       "4                95      45            60           -6        11       17   \n",
       "\n",
       "   length  acousticness  speechiness  popularity  \n",
       "0     200             0            6         100  \n",
       "1     174            12            5          88  \n",
       "2     141            17            4          88  \n",
       "3     182            75            3          86  \n",
       "4     263            16            2          86  "
      ]
     },
     "execution_count": 98,
     "metadata": {},
     "output_type": "execute_result"
    }
   ],
   "source": [
    "df.head(5)"
   ]
  },
  {
   "cell_type": "code",
   "execution_count": 99,
   "id": "a7e81900",
   "metadata": {},
   "outputs": [
    {
     "data": {
      "text/plain": [
       "title               100\n",
       "artist              100\n",
       "top genre           100\n",
       "year                100\n",
       "beats.per.minute    100\n",
       "energy              100\n",
       "danceability        100\n",
       "loudness.dB         100\n",
       "liveness            100\n",
       "valance             100\n",
       "length              100\n",
       "acousticness        100\n",
       "speechiness         100\n",
       "popularity          100\n",
       "dtype: int64"
      ]
     },
     "execution_count": 99,
     "metadata": {},
     "output_type": "execute_result"
    }
   ],
   "source": [
    "df.count()"
   ]
  },
  {
   "cell_type": "code",
   "execution_count": 101,
   "id": "aeedced3",
   "metadata": {},
   "outputs": [
    {
     "data": {
      "text/plain": [
       "1400"
      ]
     },
     "execution_count": 101,
     "metadata": {},
     "output_type": "execute_result"
    }
   ],
   "source": [
    "df.size"
   ]
  },
  {
   "cell_type": "code",
   "execution_count": 103,
   "id": "5a1b35f5",
   "metadata": {},
   "outputs": [
    {
     "data": {
      "text/plain": [
       "0     14\n",
       "1     14\n",
       "2     14\n",
       "3     14\n",
       "4     14\n",
       "      ..\n",
       "95    14\n",
       "96    14\n",
       "97    14\n",
       "98    14\n",
       "99    14\n",
       "Length: 100, dtype: int64"
      ]
     },
     "execution_count": 103,
     "metadata": {},
     "output_type": "execute_result"
    }
   ],
   "source": [
    "# 🔹 1. count() → Count Non-Null Values\n",
    "\n",
    "# Counts how many non-missing values are in each column or row.\n",
    "# df.count()\n",
    "\n",
    "\n",
    "df.count(axis=1)"
   ]
  },
  {
   "cell_type": "code",
   "execution_count": 106,
   "id": "eb8b1edd",
   "metadata": {},
   "outputs": [
    {
     "data": {
      "text/plain": [
       "100"
      ]
     },
     "execution_count": 106,
     "metadata": {},
     "output_type": "execute_result"
    }
   ],
   "source": [
    "# 🔹 2. len() → Count Total Rows\n",
    "\n",
    "# Fast way to count rows in a DataFrame.\n",
    "# total number of rows (songs)\n",
    "\n",
    "len(df)"
   ]
  },
  {
   "cell_type": "code",
   "execution_count": 107,
   "id": "06658fb6",
   "metadata": {},
   "outputs": [
    {
     "data": {
      "text/plain": [
       "14"
      ]
     },
     "execution_count": 107,
     "metadata": {},
     "output_type": "execute_result"
    }
   ],
   "source": [
    "len(df.columns)\n",
    " # total number of columns"
   ]
  },
  {
   "cell_type": "code",
   "execution_count": 108,
   "id": "c366080c",
   "metadata": {},
   "outputs": [
    {
     "data": {
      "text/plain": [
       "(100, 14)"
      ]
     },
     "execution_count": 108,
     "metadata": {},
     "output_type": "execute_result"
    }
   ],
   "source": [
    "#🔹 3. shape → Rows and Columns\n",
    "# Gives tuple (rows, cols)\n",
    "\n",
    "df.shape"
   ]
  },
  {
   "cell_type": "code",
   "execution_count": 109,
   "id": "2bff5933",
   "metadata": {},
   "outputs": [
    {
     "data": {
      "text/plain": [
       "artist\n",
       "Post Malone        7\n",
       "Ed Sheeran         5\n",
       "The Weeknd         4\n",
       "Imagine Dragons    4\n",
       "Shawn Mendes       3\n",
       "                  ..\n",
       "DJ Snake           1\n",
       "Mark Ronson        1\n",
       "Lauv               1\n",
       "The Killers        1\n",
       "Mike Posner        1\n",
       "Name: count, Length: 64, dtype: int64"
      ]
     },
     "execution_count": 109,
     "metadata": {},
     "output_type": "execute_result"
    }
   ],
   "source": [
    "# 🔹 4. value_counts() → Count Unique Values in a Column\n",
    "# Very powerful for category/label counting.\n",
    "\n",
    "df['artist'].value_counts()"
   ]
  },
  {
   "cell_type": "code",
   "execution_count": 110,
   "id": "1980f36a",
   "metadata": {},
   "outputs": [
    {
     "data": {
      "text/plain": [
       "title\n",
       "Blinding Lights 1                                1\n",
       "One Kiss (with Dua Lipa)                         1\n",
       "7 Years                                          1\n",
       "Don't Let Me Down                                1\n",
       "Sorry                                            1\n",
       "                                                ..\n",
       "Starboy                                          1\n",
       "Thinking out Loud                                1\n",
       "Sunflower - Spider-Man: Into the Spider-Verse    1\n",
       "The Hills                                        1\n",
       "I Took A Pill In Ibiza - Seeb Remix              1\n",
       "Name: count, Length: 100, dtype: int64"
      ]
     },
     "execution_count": 110,
     "metadata": {},
     "output_type": "execute_result"
    }
   ],
   "source": [
    "df['title'].value_counts()"
   ]
  },
  {
   "cell_type": "code",
   "execution_count": null,
   "id": "6cb65ba8",
   "metadata": {},
   "outputs": [],
   "source": []
  }
 ],
 "metadata": {
  "kernelspec": {
   "display_name": "Python 3 (ipykernel)",
   "language": "python",
   "name": "python3"
  },
  "language_info": {
   "codemirror_mode": {
    "name": "ipython",
    "version": 3
   },
   "file_extension": ".py",
   "mimetype": "text/x-python",
   "name": "python",
   "nbconvert_exporter": "python",
   "pygments_lexer": "ipython3",
   "version": "3.11.5"
  }
 },
 "nbformat": 4,
 "nbformat_minor": 5
}
