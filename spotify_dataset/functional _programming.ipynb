{
 "cells": [
  {
   "cell_type": "code",
   "execution_count": 1,
   "id": "34c5b315",
   "metadata": {},
   "outputs": [
    {
     "data": {
      "text/html": [
       "<div>\n",
       "<style scoped>\n",
       "    .dataframe tbody tr th:only-of-type {\n",
       "        vertical-align: middle;\n",
       "    }\n",
       "\n",
       "    .dataframe tbody tr th {\n",
       "        vertical-align: top;\n",
       "    }\n",
       "\n",
       "    .dataframe thead th {\n",
       "        text-align: right;\n",
       "    }\n",
       "</style>\n",
       "<table border=\"1\" class=\"dataframe\">\n",
       "  <thead>\n",
       "    <tr style=\"text-align: right;\">\n",
       "      <th></th>\n",
       "      <th>artist</th>\n",
       "      <th>year</th>\n",
       "      <th>popularity</th>\n",
       "    </tr>\n",
       "  </thead>\n",
       "  <tbody>\n",
       "    <tr>\n",
       "      <th>0</th>\n",
       "      <td>Drake</td>\n",
       "      <td>2019</td>\n",
       "      <td>85</td>\n",
       "    </tr>\n",
       "    <tr>\n",
       "      <th>1</th>\n",
       "      <td>The Weeknd</td>\n",
       "      <td>2020</td>\n",
       "      <td>92</td>\n",
       "    </tr>\n",
       "    <tr>\n",
       "      <th>2</th>\n",
       "      <td>Ed Sheeran</td>\n",
       "      <td>2020</td>\n",
       "      <td>88</td>\n",
       "    </tr>\n",
       "  </tbody>\n",
       "</table>\n",
       "</div>"
      ],
      "text/plain": [
       "       artist  year  popularity\n",
       "0       Drake  2019          85\n",
       "1  The Weeknd  2020          92\n",
       "2  Ed Sheeran  2020          88"
      ]
     },
     "execution_count": 1,
     "metadata": {},
     "output_type": "execute_result"
    }
   ],
   "source": [
    "import pandas as pd\n",
    "from functools import reduce\n",
    "\n",
    "df = pd.DataFrame({\n",
    "    'artist': ['Drake', 'The Weeknd', 'Ed Sheeran'],\n",
    "    'year': [2019, 2020, 2020],\n",
    "    'popularity': [85, 92, 88]\n",
    "})\n",
    "\n",
    "df"
   ]
  },
  {
   "cell_type": "markdown",
   "id": "fdf2d688",
   "metadata": {},
   "source": [
    "### 1. apply() → Apply Function to a Column/Row\n",
    "\n",
    " You can use it on:\n",
    "\n",
    "A Series (single column)\n",
    "\n",
    "A DataFrame (axis=0 = column-wise, axis=1 = row-wise)"
   ]
  },
  {
   "cell_type": "code",
   "execution_count": 3,
   "id": "e5461d99",
   "metadata": {},
   "outputs": [
    {
     "data": {
      "text/html": [
       "<div>\n",
       "<style scoped>\n",
       "    .dataframe tbody tr th:only-of-type {\n",
       "        vertical-align: middle;\n",
       "    }\n",
       "\n",
       "    .dataframe tbody tr th {\n",
       "        vertical-align: top;\n",
       "    }\n",
       "\n",
       "    .dataframe thead th {\n",
       "        text-align: right;\n",
       "    }\n",
       "</style>\n",
       "<table border=\"1\" class=\"dataframe\">\n",
       "  <thead>\n",
       "    <tr style=\"text-align: right;\">\n",
       "      <th></th>\n",
       "      <th>artist</th>\n",
       "      <th>year</th>\n",
       "      <th>popularity</th>\n",
       "      <th>popularity_squared</th>\n",
       "    </tr>\n",
       "  </thead>\n",
       "  <tbody>\n",
       "    <tr>\n",
       "      <th>0</th>\n",
       "      <td>Drake</td>\n",
       "      <td>2019</td>\n",
       "      <td>85</td>\n",
       "      <td>7225</td>\n",
       "    </tr>\n",
       "    <tr>\n",
       "      <th>1</th>\n",
       "      <td>The Weeknd</td>\n",
       "      <td>2020</td>\n",
       "      <td>92</td>\n",
       "      <td>8464</td>\n",
       "    </tr>\n",
       "    <tr>\n",
       "      <th>2</th>\n",
       "      <td>Ed Sheeran</td>\n",
       "      <td>2020</td>\n",
       "      <td>88</td>\n",
       "      <td>7744</td>\n",
       "    </tr>\n",
       "  </tbody>\n",
       "</table>\n",
       "</div>"
      ],
      "text/plain": [
       "       artist  year  popularity  popularity_squared\n",
       "0       Drake  2019          85                7225\n",
       "1  The Weeknd  2020          92                8464\n",
       "2  Ed Sheeran  2020          88                7744"
      ]
     },
     "execution_count": 3,
     "metadata": {},
     "output_type": "execute_result"
    }
   ],
   "source": [
    "# (a) Apply on a Column\n",
    "\n",
    "df['popularity_squared'] = df['popularity'].apply(lambda x : x**2)\n",
    "df"
   ]
  },
  {
   "cell_type": "code",
   "execution_count": 5,
   "id": "c5d65392",
   "metadata": {},
   "outputs": [
    {
     "data": {
      "text/html": [
       "<div>\n",
       "<style scoped>\n",
       "    .dataframe tbody tr th:only-of-type {\n",
       "        vertical-align: middle;\n",
       "    }\n",
       "\n",
       "    .dataframe tbody tr th {\n",
       "        vertical-align: top;\n",
       "    }\n",
       "\n",
       "    .dataframe thead th {\n",
       "        text-align: right;\n",
       "    }\n",
       "</style>\n",
       "<table border=\"1\" class=\"dataframe\">\n",
       "  <thead>\n",
       "    <tr style=\"text-align: right;\">\n",
       "      <th></th>\n",
       "      <th>artist</th>\n",
       "      <th>year</th>\n",
       "      <th>popularity</th>\n",
       "      <th>popularity_squared</th>\n",
       "      <th>artist_year</th>\n",
       "    </tr>\n",
       "  </thead>\n",
       "  <tbody>\n",
       "    <tr>\n",
       "      <th>0</th>\n",
       "      <td>Drake</td>\n",
       "      <td>2019</td>\n",
       "      <td>85</td>\n",
       "      <td>7225</td>\n",
       "      <td>Drake_2019</td>\n",
       "    </tr>\n",
       "    <tr>\n",
       "      <th>1</th>\n",
       "      <td>The Weeknd</td>\n",
       "      <td>2020</td>\n",
       "      <td>92</td>\n",
       "      <td>8464</td>\n",
       "      <td>The Weeknd_2020</td>\n",
       "    </tr>\n",
       "    <tr>\n",
       "      <th>2</th>\n",
       "      <td>Ed Sheeran</td>\n",
       "      <td>2020</td>\n",
       "      <td>88</td>\n",
       "      <td>7744</td>\n",
       "      <td>Ed Sheeran_2020</td>\n",
       "    </tr>\n",
       "  </tbody>\n",
       "</table>\n",
       "</div>"
      ],
      "text/plain": [
       "       artist  year  popularity  popularity_squared      artist_year\n",
       "0       Drake  2019          85                7225       Drake_2019\n",
       "1  The Weeknd  2020          92                8464  The Weeknd_2020\n",
       "2  Ed Sheeran  2020          88                7744  Ed Sheeran_2020"
      ]
     },
     "execution_count": 5,
     "metadata": {},
     "output_type": "execute_result"
    }
   ],
   "source": [
    "# (b) Apply on Rows (axis=1)\n",
    "\n",
    "df['artist_year'] = df.apply(lambda row : row['artist'] + '_' +  str(row['year']), axis=1)\n",
    "df"
   ]
  },
  {
   "cell_type": "markdown",
   "id": "5b6ab28f",
   "metadata": {},
   "source": [
    "### 2. map() → Elementwise for Series\n",
    "\n",
    "👉 Only works on Series.\n",
    "\n",
    "Function: transform each value\n",
    "\n",
    "Dict: replace values\n",
    "\n",
    "Series: map values to another series"
   ]
  },
  {
   "cell_type": "code",
   "execution_count": 6,
   "id": "914020b7",
   "metadata": {},
   "outputs": [
    {
     "data": {
      "text/html": [
       "<div>\n",
       "<style scoped>\n",
       "    .dataframe tbody tr th:only-of-type {\n",
       "        vertical-align: middle;\n",
       "    }\n",
       "\n",
       "    .dataframe tbody tr th {\n",
       "        vertical-align: top;\n",
       "    }\n",
       "\n",
       "    .dataframe thead th {\n",
       "        text-align: right;\n",
       "    }\n",
       "</style>\n",
       "<table border=\"1\" class=\"dataframe\">\n",
       "  <thead>\n",
       "    <tr style=\"text-align: right;\">\n",
       "      <th></th>\n",
       "      <th>artist</th>\n",
       "      <th>year</th>\n",
       "      <th>popularity</th>\n",
       "      <th>popularity_squared</th>\n",
       "      <th>artist_year</th>\n",
       "      <th>popularity_scaled</th>\n",
       "    </tr>\n",
       "  </thead>\n",
       "  <tbody>\n",
       "    <tr>\n",
       "      <th>0</th>\n",
       "      <td>Drake</td>\n",
       "      <td>2019</td>\n",
       "      <td>85</td>\n",
       "      <td>7225</td>\n",
       "      <td>Drake_2019</td>\n",
       "      <td>8.5</td>\n",
       "    </tr>\n",
       "    <tr>\n",
       "      <th>1</th>\n",
       "      <td>The Weeknd</td>\n",
       "      <td>2020</td>\n",
       "      <td>92</td>\n",
       "      <td>8464</td>\n",
       "      <td>The Weeknd_2020</td>\n",
       "      <td>9.2</td>\n",
       "    </tr>\n",
       "    <tr>\n",
       "      <th>2</th>\n",
       "      <td>Ed Sheeran</td>\n",
       "      <td>2020</td>\n",
       "      <td>88</td>\n",
       "      <td>7744</td>\n",
       "      <td>Ed Sheeran_2020</td>\n",
       "      <td>8.8</td>\n",
       "    </tr>\n",
       "  </tbody>\n",
       "</table>\n",
       "</div>"
      ],
      "text/plain": [
       "       artist  year  popularity  popularity_squared      artist_year  \\\n",
       "0       Drake  2019          85                7225       Drake_2019   \n",
       "1  The Weeknd  2020          92                8464  The Weeknd_2020   \n",
       "2  Ed Sheeran  2020          88                7744  Ed Sheeran_2020   \n",
       "\n",
       "   popularity_scaled  \n",
       "0                8.5  \n",
       "1                9.2  \n",
       "2                8.8  "
      ]
     },
     "execution_count": 6,
     "metadata": {},
     "output_type": "execute_result"
    }
   ],
   "source": [
    "# (a) With a Function\n",
    "\n",
    "df['popularity_scaled'] = df['popularity'].map(lambda x: x/10)\n",
    "df"
   ]
  },
  {
   "cell_type": "code",
   "execution_count": 7,
   "id": "202baccf",
   "metadata": {},
   "outputs": [
    {
     "data": {
      "text/html": [
       "<div>\n",
       "<style scoped>\n",
       "    .dataframe tbody tr th:only-of-type {\n",
       "        vertical-align: middle;\n",
       "    }\n",
       "\n",
       "    .dataframe tbody tr th {\n",
       "        vertical-align: top;\n",
       "    }\n",
       "\n",
       "    .dataframe thead th {\n",
       "        text-align: right;\n",
       "    }\n",
       "</style>\n",
       "<table border=\"1\" class=\"dataframe\">\n",
       "  <thead>\n",
       "    <tr style=\"text-align: right;\">\n",
       "      <th></th>\n",
       "      <th>artist</th>\n",
       "      <th>year</th>\n",
       "      <th>popularity</th>\n",
       "      <th>popularity_squared</th>\n",
       "      <th>artist_year</th>\n",
       "      <th>popularity_scaled</th>\n",
       "      <th>artist_short</th>\n",
       "    </tr>\n",
       "  </thead>\n",
       "  <tbody>\n",
       "    <tr>\n",
       "      <th>0</th>\n",
       "      <td>Drake</td>\n",
       "      <td>2019</td>\n",
       "      <td>85</td>\n",
       "      <td>7225</td>\n",
       "      <td>Drake_2019</td>\n",
       "      <td>8.5</td>\n",
       "      <td>D</td>\n",
       "    </tr>\n",
       "    <tr>\n",
       "      <th>1</th>\n",
       "      <td>The Weeknd</td>\n",
       "      <td>2020</td>\n",
       "      <td>92</td>\n",
       "      <td>8464</td>\n",
       "      <td>The Weeknd_2020</td>\n",
       "      <td>9.2</td>\n",
       "      <td>TW</td>\n",
       "    </tr>\n",
       "    <tr>\n",
       "      <th>2</th>\n",
       "      <td>Ed Sheeran</td>\n",
       "      <td>2020</td>\n",
       "      <td>88</td>\n",
       "      <td>7744</td>\n",
       "      <td>Ed Sheeran_2020</td>\n",
       "      <td>8.8</td>\n",
       "      <td>ES</td>\n",
       "    </tr>\n",
       "  </tbody>\n",
       "</table>\n",
       "</div>"
      ],
      "text/plain": [
       "       artist  year  popularity  popularity_squared      artist_year  \\\n",
       "0       Drake  2019          85                7225       Drake_2019   \n",
       "1  The Weeknd  2020          92                8464  The Weeknd_2020   \n",
       "2  Ed Sheeran  2020          88                7744  Ed Sheeran_2020   \n",
       "\n",
       "   popularity_scaled artist_short  \n",
       "0                8.5            D  \n",
       "1                9.2           TW  \n",
       "2                8.8           ES  "
      ]
     },
     "execution_count": 7,
     "metadata": {},
     "output_type": "execute_result"
    }
   ],
   "source": [
    "# (b) With a Dictionary\n",
    "\n",
    "df['artist_short'] = df['artist'].map({\n",
    "    'Drake' : 'D', \n",
    "    'The Weeknd' : 'TW', \n",
    "    'Ed Sheeran' : 'ES'\n",
    "})\n",
    "\n",
    "df"
   ]
  },
  {
   "cell_type": "markdown",
   "id": "d5b49473",
   "metadata": {},
   "source": [
    " map() is simpler than apply() but only for one column."
   ]
  },
  {
   "cell_type": "markdown",
   "id": "5639066e",
   "metadata": {},
   "source": [
    "### 3. applymap() → Elementwise on Entire DataFrame\n",
    "\n",
    "👉 Works on a whole DataFrame.\n",
    "Applies a function to every cell."
   ]
  },
  {
   "cell_type": "code",
   "execution_count": 13,
   "id": "307070e0",
   "metadata": {},
   "outputs": [
    {
     "data": {
      "text/html": [
       "<div>\n",
       "<style scoped>\n",
       "    .dataframe tbody tr th:only-of-type {\n",
       "        vertical-align: middle;\n",
       "    }\n",
       "\n",
       "    .dataframe tbody tr th {\n",
       "        vertical-align: top;\n",
       "    }\n",
       "\n",
       "    .dataframe thead th {\n",
       "        text-align: right;\n",
       "    }\n",
       "</style>\n",
       "<table border=\"1\" class=\"dataframe\">\n",
       "  <thead>\n",
       "    <tr style=\"text-align: right;\">\n",
       "      <th></th>\n",
       "      <th>year</th>\n",
       "      <th>popularity</th>\n",
       "    </tr>\n",
       "  </thead>\n",
       "  <tbody>\n",
       "    <tr>\n",
       "      <th>0</th>\n",
       "      <td>4038</td>\n",
       "      <td>170</td>\n",
       "    </tr>\n",
       "    <tr>\n",
       "      <th>1</th>\n",
       "      <td>4040</td>\n",
       "      <td>184</td>\n",
       "    </tr>\n",
       "    <tr>\n",
       "      <th>2</th>\n",
       "      <td>4040</td>\n",
       "      <td>176</td>\n",
       "    </tr>\n",
       "  </tbody>\n",
       "</table>\n",
       "</div>"
      ],
      "text/plain": [
       "   year  popularity\n",
       "0  4038         170\n",
       "1  4040         184\n",
       "2  4040         176"
      ]
     },
     "execution_count": 13,
     "metadata": {},
     "output_type": "execute_result"
    }
   ],
   "source": [
    "df_num = df[['year','popularity']]\n",
    "df_num.applymap(lambda x : x*2)\n",
    "\n",
    "# ✅ Rarely used — but handy for scaling/cleaning all numeric cells."
   ]
  },
  {
   "cell_type": "markdown",
   "id": "4cbd624a",
   "metadata": {},
   "source": [
    "### 4. lambda → Anonymous Function\n",
    "\n",
    "👉 lambda is not a pandas method — it’s a Python feature.\n",
    "You use it inside apply, map, etc. for quick inline functions."
   ]
  },
  {
   "cell_type": "code",
   "execution_count": 15,
   "id": "f372addf",
   "metadata": {},
   "outputs": [
    {
     "data": {
      "text/html": [
       "<div>\n",
       "<style scoped>\n",
       "    .dataframe tbody tr th:only-of-type {\n",
       "        vertical-align: middle;\n",
       "    }\n",
       "\n",
       "    .dataframe tbody tr th {\n",
       "        vertical-align: top;\n",
       "    }\n",
       "\n",
       "    .dataframe thead th {\n",
       "        text-align: right;\n",
       "    }\n",
       "</style>\n",
       "<table border=\"1\" class=\"dataframe\">\n",
       "  <thead>\n",
       "    <tr style=\"text-align: right;\">\n",
       "      <th></th>\n",
       "      <th>artist</th>\n",
       "      <th>year</th>\n",
       "      <th>popularity</th>\n",
       "      <th>popularity_squared</th>\n",
       "      <th>artist_year</th>\n",
       "      <th>popularity_scaled</th>\n",
       "      <th>artist_short</th>\n",
       "      <th>popularity_flag</th>\n",
       "    </tr>\n",
       "  </thead>\n",
       "  <tbody>\n",
       "    <tr>\n",
       "      <th>0</th>\n",
       "      <td>Drake</td>\n",
       "      <td>2019</td>\n",
       "      <td>85</td>\n",
       "      <td>7225</td>\n",
       "      <td>Drake_2019</td>\n",
       "      <td>8.5</td>\n",
       "      <td>D</td>\n",
       "      <td>Normal</td>\n",
       "    </tr>\n",
       "    <tr>\n",
       "      <th>1</th>\n",
       "      <td>The Weeknd</td>\n",
       "      <td>2020</td>\n",
       "      <td>92</td>\n",
       "      <td>8464</td>\n",
       "      <td>The Weeknd_2020</td>\n",
       "      <td>9.2</td>\n",
       "      <td>TW</td>\n",
       "      <td>High</td>\n",
       "    </tr>\n",
       "    <tr>\n",
       "      <th>2</th>\n",
       "      <td>Ed Sheeran</td>\n",
       "      <td>2020</td>\n",
       "      <td>88</td>\n",
       "      <td>7744</td>\n",
       "      <td>Ed Sheeran_2020</td>\n",
       "      <td>8.8</td>\n",
       "      <td>ES</td>\n",
       "      <td>Normal</td>\n",
       "    </tr>\n",
       "  </tbody>\n",
       "</table>\n",
       "</div>"
      ],
      "text/plain": [
       "       artist  year  popularity  popularity_squared      artist_year  \\\n",
       "0       Drake  2019          85                7225       Drake_2019   \n",
       "1  The Weeknd  2020          92                8464  The Weeknd_2020   \n",
       "2  Ed Sheeran  2020          88                7744  Ed Sheeran_2020   \n",
       "\n",
       "   popularity_scaled artist_short popularity_flag  \n",
       "0                8.5            D          Normal  \n",
       "1                9.2           TW            High  \n",
       "2                8.8           ES          Normal  "
      ]
     },
     "execution_count": 15,
     "metadata": {},
     "output_type": "execute_result"
    }
   ],
   "source": [
    "df['popularity_flag'] = df['popularity'].apply(lambda x : 'High' if x > 90 else 'Normal')\n",
    "df"
   ]
  },
  {
   "cell_type": "markdown",
   "id": "85c058d6",
   "metadata": {},
   "source": [
    "###  5. reduce() → Cumulative Function (Python)\n",
    "\n",
    "👉 Comes from functools.\n",
    "Takes two elements at a time → reduces the whole list to a single value."
   ]
  },
  {
   "cell_type": "code",
   "execution_count": 16,
   "id": "3ac22259",
   "metadata": {},
   "outputs": [
    {
     "data": {
      "text/plain": [
       "10"
      ]
     },
     "execution_count": 16,
     "metadata": {},
     "output_type": "execute_result"
    }
   ],
   "source": [
    "nums = [1, 2, 3, 4]\n",
    "reduce(lambda x, y: x + y, nums)"
   ]
  },
  {
   "cell_type": "code",
   "execution_count": 17,
   "id": "44597adb",
   "metadata": {},
   "outputs": [
    {
     "data": {
      "text/plain": [
       "265"
      ]
     },
     "execution_count": 17,
     "metadata": {},
     "output_type": "execute_result"
    }
   ],
   "source": [
    "reduce(lambda x, y: x+y, df['popularity'])"
   ]
  },
  {
   "cell_type": "markdown",
   "id": "14d4c10d",
   "metadata": {},
   "source": [
    "### 6. filter() → Subset by Labels\n",
    "\n",
    "👉 In pandas, filter works differently than boolean filtering.\n",
    "It filters rows or columns by label names."
   ]
  },
  {
   "cell_type": "code",
   "execution_count": 18,
   "id": "e47ef225",
   "metadata": {},
   "outputs": [
    {
     "data": {
      "text/html": [
       "<div>\n",
       "<style scoped>\n",
       "    .dataframe tbody tr th:only-of-type {\n",
       "        vertical-align: middle;\n",
       "    }\n",
       "\n",
       "    .dataframe tbody tr th {\n",
       "        vertical-align: top;\n",
       "    }\n",
       "\n",
       "    .dataframe thead th {\n",
       "        text-align: right;\n",
       "    }\n",
       "</style>\n",
       "<table border=\"1\" class=\"dataframe\">\n",
       "  <thead>\n",
       "    <tr style=\"text-align: right;\">\n",
       "      <th></th>\n",
       "      <th>popularity</th>\n",
       "      <th>popularity_squared</th>\n",
       "      <th>popularity_scaled</th>\n",
       "      <th>popularity_flag</th>\n",
       "    </tr>\n",
       "  </thead>\n",
       "  <tbody>\n",
       "    <tr>\n",
       "      <th>0</th>\n",
       "      <td>85</td>\n",
       "      <td>7225</td>\n",
       "      <td>8.5</td>\n",
       "      <td>Normal</td>\n",
       "    </tr>\n",
       "    <tr>\n",
       "      <th>1</th>\n",
       "      <td>92</td>\n",
       "      <td>8464</td>\n",
       "      <td>9.2</td>\n",
       "      <td>High</td>\n",
       "    </tr>\n",
       "    <tr>\n",
       "      <th>2</th>\n",
       "      <td>88</td>\n",
       "      <td>7744</td>\n",
       "      <td>8.8</td>\n",
       "      <td>Normal</td>\n",
       "    </tr>\n",
       "  </tbody>\n",
       "</table>\n",
       "</div>"
      ],
      "text/plain": [
       "   popularity  popularity_squared  popularity_scaled popularity_flag\n",
       "0          85                7225                8.5          Normal\n",
       "1          92                8464                9.2            High\n",
       "2          88                7744                8.8          Normal"
      ]
     },
     "execution_count": 18,
     "metadata": {},
     "output_type": "execute_result"
    }
   ],
   "source": [
    "# (a) Filter Columns by Name\n",
    "\n",
    "df.filter(like='pop')\n"
   ]
  },
  {
   "cell_type": "code",
   "execution_count": 19,
   "id": "6d4ff6c4",
   "metadata": {},
   "outputs": [
    {
     "data": {
      "text/html": [
       "<div>\n",
       "<style scoped>\n",
       "    .dataframe tbody tr th:only-of-type {\n",
       "        vertical-align: middle;\n",
       "    }\n",
       "\n",
       "    .dataframe tbody tr th {\n",
       "        vertical-align: top;\n",
       "    }\n",
       "\n",
       "    .dataframe thead th {\n",
       "        text-align: right;\n",
       "    }\n",
       "</style>\n",
       "<table border=\"1\" class=\"dataframe\">\n",
       "  <thead>\n",
       "    <tr style=\"text-align: right;\">\n",
       "      <th></th>\n",
       "      <th>artist</th>\n",
       "      <th>year</th>\n",
       "    </tr>\n",
       "  </thead>\n",
       "  <tbody>\n",
       "    <tr>\n",
       "      <th>0</th>\n",
       "      <td>Drake</td>\n",
       "      <td>2019</td>\n",
       "    </tr>\n",
       "    <tr>\n",
       "      <th>1</th>\n",
       "      <td>The Weeknd</td>\n",
       "      <td>2020</td>\n",
       "    </tr>\n",
       "    <tr>\n",
       "      <th>2</th>\n",
       "      <td>Ed Sheeran</td>\n",
       "      <td>2020</td>\n",
       "    </tr>\n",
       "  </tbody>\n",
       "</table>\n",
       "</div>"
      ],
      "text/plain": [
       "       artist  year\n",
       "0       Drake  2019\n",
       "1  The Weeknd  2020\n",
       "2  Ed Sheeran  2020"
      ]
     },
     "execution_count": 19,
     "metadata": {},
     "output_type": "execute_result"
    }
   ],
   "source": [
    "# b) Filter Specific Columns\n",
    "\n",
    "df.filter(items=['artist','year'])"
   ]
  },
  {
   "cell_type": "code",
   "execution_count": 20,
   "id": "2954c567",
   "metadata": {},
   "outputs": [
    {
     "data": {
      "text/html": [
       "<div>\n",
       "<style scoped>\n",
       "    .dataframe tbody tr th:only-of-type {\n",
       "        vertical-align: middle;\n",
       "    }\n",
       "\n",
       "    .dataframe tbody tr th {\n",
       "        vertical-align: top;\n",
       "    }\n",
       "\n",
       "    .dataframe thead th {\n",
       "        text-align: right;\n",
       "    }\n",
       "</style>\n",
       "<table border=\"1\" class=\"dataframe\">\n",
       "  <thead>\n",
       "    <tr style=\"text-align: right;\">\n",
       "      <th></th>\n",
       "      <th>artist</th>\n",
       "      <th>year</th>\n",
       "      <th>popularity</th>\n",
       "      <th>popularity_squared</th>\n",
       "      <th>artist_year</th>\n",
       "      <th>popularity_scaled</th>\n",
       "      <th>artist_short</th>\n",
       "      <th>popularity_flag</th>\n",
       "    </tr>\n",
       "  </thead>\n",
       "  <tbody>\n",
       "    <tr>\n",
       "      <th>1</th>\n",
       "      <td>The Weeknd</td>\n",
       "      <td>2020</td>\n",
       "      <td>92</td>\n",
       "      <td>8464</td>\n",
       "      <td>The Weeknd_2020</td>\n",
       "      <td>9.2</td>\n",
       "      <td>TW</td>\n",
       "      <td>High</td>\n",
       "    </tr>\n",
       "  </tbody>\n",
       "</table>\n",
       "</div>"
      ],
      "text/plain": [
       "       artist  year  popularity  popularity_squared      artist_year  \\\n",
       "1  The Weeknd  2020          92                8464  The Weeknd_2020   \n",
       "\n",
       "   popularity_scaled artist_short popularity_flag  \n",
       "1                9.2           TW            High  "
      ]
     },
     "execution_count": 20,
     "metadata": {},
     "output_type": "execute_result"
    }
   ],
   "source": [
    "# ✅ To filter rows by values → use boolean indexing instead:\n",
    "\n",
    "df[df['popularity']> 90]"
   ]
  },
  {
   "cell_type": "code",
   "execution_count": null,
   "id": "c22ccb18",
   "metadata": {},
   "outputs": [],
   "source": []
  }
 ],
 "metadata": {
  "kernelspec": {
   "display_name": "Python 3 (ipykernel)",
   "language": "python",
   "name": "python3"
  },
  "language_info": {
   "codemirror_mode": {
    "name": "ipython",
    "version": 3
   },
   "file_extension": ".py",
   "mimetype": "text/x-python",
   "name": "python",
   "nbconvert_exporter": "python",
   "pygments_lexer": "ipython3",
   "version": "3.11.5"
  }
 },
 "nbformat": 4,
 "nbformat_minor": 5
}
