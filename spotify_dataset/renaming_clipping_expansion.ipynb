{
 "cells": [
  {
   "cell_type": "code",
   "execution_count": 1,
   "id": "ac7d1199",
   "metadata": {},
   "outputs": [
    {
     "data": {
      "text/html": [
       "<div>\n",
       "<style scoped>\n",
       "    .dataframe tbody tr th:only-of-type {\n",
       "        vertical-align: middle;\n",
       "    }\n",
       "\n",
       "    .dataframe tbody tr th {\n",
       "        vertical-align: top;\n",
       "    }\n",
       "\n",
       "    .dataframe thead th {\n",
       "        text-align: right;\n",
       "    }\n",
       "</style>\n",
       "<table border=\"1\" class=\"dataframe\">\n",
       "  <thead>\n",
       "    <tr style=\"text-align: right;\">\n",
       "      <th></th>\n",
       "      <th>title</th>\n",
       "      <th>artist</th>\n",
       "      <th>top genre</th>\n",
       "      <th>year</th>\n",
       "      <th>beats.per.minute</th>\n",
       "      <th>energy</th>\n",
       "      <th>danceability</th>\n",
       "      <th>loudness.dB</th>\n",
       "      <th>liveness</th>\n",
       "      <th>valance</th>\n",
       "      <th>length</th>\n",
       "      <th>acousticness</th>\n",
       "      <th>speechiness</th>\n",
       "      <th>popularity</th>\n",
       "    </tr>\n",
       "  </thead>\n",
       "  <tbody>\n",
       "    <tr>\n",
       "      <th>0</th>\n",
       "      <td>Blinding Lights</td>\n",
       "      <td>The Weeknd</td>\n",
       "      <td>canadian contemporary r&amp;b</td>\n",
       "      <td>2020</td>\n",
       "      <td>171</td>\n",
       "      <td>73</td>\n",
       "      <td>51</td>\n",
       "      <td>-6</td>\n",
       "      <td>9</td>\n",
       "      <td>33</td>\n",
       "      <td>200</td>\n",
       "      <td>0</td>\n",
       "      <td>6</td>\n",
       "      <td>91</td>\n",
       "    </tr>\n",
       "    <tr>\n",
       "      <th>1</th>\n",
       "      <td>Watermelon Sugar</td>\n",
       "      <td>Harry Styles</td>\n",
       "      <td>pop</td>\n",
       "      <td>2019</td>\n",
       "      <td>95</td>\n",
       "      <td>82</td>\n",
       "      <td>55</td>\n",
       "      <td>-4</td>\n",
       "      <td>34</td>\n",
       "      <td>56</td>\n",
       "      <td>174</td>\n",
       "      <td>12</td>\n",
       "      <td>5</td>\n",
       "      <td>88</td>\n",
       "    </tr>\n",
       "  </tbody>\n",
       "</table>\n",
       "</div>"
      ],
      "text/plain": [
       "              title        artist                  top genre  year  \\\n",
       "0   Blinding Lights    The Weeknd  canadian contemporary r&b  2020   \n",
       "1  Watermelon Sugar  Harry Styles                        pop  2019   \n",
       "\n",
       "   beats.per.minute  energy  danceability  loudness.dB  liveness  valance  \\\n",
       "0               171      73            51           -6         9       33   \n",
       "1                95      82            55           -4        34       56   \n",
       "\n",
       "   length  acousticness  speechiness  popularity  \n",
       "0     200             0            6          91  \n",
       "1     174            12            5          88  "
      ]
     },
     "execution_count": 1,
     "metadata": {},
     "output_type": "execute_result"
    }
   ],
   "source": [
    "import pandas as pd\n",
    "import numpy as np\n",
    "import os\n",
    "\n",
    "df = pd.read_csv('Top 100 most Streamed - Sheet1.csv')\n",
    "df.head(2)"
   ]
  },
  {
   "cell_type": "markdown",
   "id": "7a6feaea",
   "metadata": {},
   "source": [
    "### 19. rename() → Alter Axis Labels\n",
    "\n",
    "Used to rename columns or row indexes."
   ]
  },
  {
   "cell_type": "code",
   "execution_count": 3,
   "id": "0cf1537c",
   "metadata": {},
   "outputs": [
    {
     "data": {
      "text/html": [
       "<div>\n",
       "<style scoped>\n",
       "    .dataframe tbody tr th:only-of-type {\n",
       "        vertical-align: middle;\n",
       "    }\n",
       "\n",
       "    .dataframe tbody tr th {\n",
       "        vertical-align: top;\n",
       "    }\n",
       "\n",
       "    .dataframe thead th {\n",
       "        text-align: right;\n",
       "    }\n",
       "</style>\n",
       "<table border=\"1\" class=\"dataframe\">\n",
       "  <thead>\n",
       "    <tr style=\"text-align: right;\">\n",
       "      <th></th>\n",
       "      <th>song</th>\n",
       "      <th>singer</th>\n",
       "      <th>top genre</th>\n",
       "      <th>year</th>\n",
       "      <th>beats.per.minute</th>\n",
       "      <th>energy</th>\n",
       "      <th>danceability</th>\n",
       "      <th>loudness.dB</th>\n",
       "      <th>liveness</th>\n",
       "      <th>valance</th>\n",
       "      <th>length</th>\n",
       "      <th>acousticness</th>\n",
       "      <th>speechiness</th>\n",
       "      <th>popularity</th>\n",
       "    </tr>\n",
       "  </thead>\n",
       "  <tbody>\n",
       "    <tr>\n",
       "      <th>0</th>\n",
       "      <td>Blinding Lights</td>\n",
       "      <td>The Weeknd</td>\n",
       "      <td>canadian contemporary r&amp;b</td>\n",
       "      <td>2020</td>\n",
       "      <td>171</td>\n",
       "      <td>73</td>\n",
       "      <td>51</td>\n",
       "      <td>-6</td>\n",
       "      <td>9</td>\n",
       "      <td>33</td>\n",
       "      <td>200</td>\n",
       "      <td>0</td>\n",
       "      <td>6</td>\n",
       "      <td>91</td>\n",
       "    </tr>\n",
       "  </tbody>\n",
       "</table>\n",
       "</div>"
      ],
      "text/plain": [
       "              song      singer                  top genre  year  \\\n",
       "0  Blinding Lights  The Weeknd  canadian contemporary r&b  2020   \n",
       "\n",
       "   beats.per.minute  energy  danceability  loudness.dB  liveness  valance  \\\n",
       "0               171      73            51           -6         9       33   \n",
       "\n",
       "   length  acousticness  speechiness  popularity  \n",
       "0     200             0            6          91  "
      ]
     },
     "execution_count": 3,
     "metadata": {},
     "output_type": "execute_result"
    }
   ],
   "source": [
    "df.rename(columns={'artist':'singer','title':'song'},inplace=True)\n",
    "df.head(1)"
   ]
  },
  {
   "cell_type": "code",
   "execution_count": 4,
   "id": "79354532",
   "metadata": {},
   "outputs": [
    {
     "ename": "TypeError",
     "evalue": "DataFrame.rename() got an unexpected keyword argument 'inpace'",
     "output_type": "error",
     "traceback": [
      "\u001b[0;31m---------------------------------------------------------------------------\u001b[0m",
      "\u001b[0;31mTypeError\u001b[0m                                 Traceback (most recent call last)",
      "Cell \u001b[0;32mIn[4], line 1\u001b[0m\n\u001b[0;32m----> 1\u001b[0m df\u001b[38;5;241m.\u001b[39mrename(index\u001b[38;5;241m=\u001b[39m{\u001b[38;5;241m0\u001b[39m:\u001b[38;5;124m'\u001b[39m\u001b[38;5;124mfirst_song\u001b[39m\u001b[38;5;124m'\u001b[39m,\u001b[38;5;241m1\u001b[39m:\u001b[38;5;124m'\u001b[39m\u001b[38;5;124msecond_song\u001b[39m\u001b[38;5;124m'\u001b[39m},inpace\u001b[38;5;241m=\u001b[39m\u001b[38;5;28;01mTrue\u001b[39;00m)\n",
      "\u001b[0;31mTypeError\u001b[0m: DataFrame.rename() got an unexpected keyword argument 'inpace'"
     ]
    }
   ],
   "source": [
    "df.rename(index={0:'first_song',1:'second_song'},inpace=True)"
   ]
  },
  {
   "cell_type": "code",
   "execution_count": null,
   "id": "4d93368c",
   "metadata": {},
   "outputs": [],
   "source": []
  },
  {
   "cell_type": "code",
   "execution_count": null,
   "id": "09005ef9",
   "metadata": {},
   "outputs": [],
   "source": []
  }
 ],
 "metadata": {
  "kernelspec": {
   "display_name": "Python 3 (ipykernel)",
   "language": "python",
   "name": "python3"
  },
  "language_info": {
   "codemirror_mode": {
    "name": "ipython",
    "version": 3
   },
   "file_extension": ".py",
   "mimetype": "text/x-python",
   "name": "python",
   "nbconvert_exporter": "python",
   "pygments_lexer": "ipython3",
   "version": "3.11.5"
  }
 },
 "nbformat": 4,
 "nbformat_minor": 5
}
