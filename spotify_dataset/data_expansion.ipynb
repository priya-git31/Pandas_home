{
 "cells": [
  {
   "cell_type": "code",
   "execution_count": 1,
   "id": "7e8a8b9b",
   "metadata": {},
   "outputs": [
    {
     "data": {
      "text/html": [
       "<div>\n",
       "<style scoped>\n",
       "    .dataframe tbody tr th:only-of-type {\n",
       "        vertical-align: middle;\n",
       "    }\n",
       "\n",
       "    .dataframe tbody tr th {\n",
       "        vertical-align: top;\n",
       "    }\n",
       "\n",
       "    .dataframe thead th {\n",
       "        text-align: right;\n",
       "    }\n",
       "</style>\n",
       "<table border=\"1\" class=\"dataframe\">\n",
       "  <thead>\n",
       "    <tr style=\"text-align: right;\">\n",
       "      <th></th>\n",
       "      <th>popularity</th>\n",
       "    </tr>\n",
       "  </thead>\n",
       "  <tbody>\n",
       "    <tr>\n",
       "      <th>0</th>\n",
       "      <td>50</td>\n",
       "    </tr>\n",
       "    <tr>\n",
       "      <th>1</th>\n",
       "      <td>60</td>\n",
       "    </tr>\n",
       "    <tr>\n",
       "      <th>2</th>\n",
       "      <td>70</td>\n",
       "    </tr>\n",
       "    <tr>\n",
       "      <th>3</th>\n",
       "      <td>80</td>\n",
       "    </tr>\n",
       "    <tr>\n",
       "      <th>4</th>\n",
       "      <td>90</td>\n",
       "    </tr>\n",
       "  </tbody>\n",
       "</table>\n",
       "</div>"
      ],
      "text/plain": [
       "   popularity\n",
       "0          50\n",
       "1          60\n",
       "2          70\n",
       "3          80\n",
       "4          90"
      ]
     },
     "execution_count": 1,
     "metadata": {},
     "output_type": "execute_result"
    }
   ],
   "source": [
    "import pandas as pd\n",
    "\n",
    "df = pd.DataFrame({'popularity': [50, 60, 70, 80, 90]})\n",
    "df"
   ]
  },
  {
   "cell_type": "markdown",
   "id": "87ac01a2",
   "metadata": {},
   "source": [
    "### 1. expanding() → Expanding Window Calculations\n",
    "\n",
    " Think of it as a growing window — it includes all rows from the start up to the current row, and applies an aggregation (like .mean(), .sum(), etc.)."
   ]
  },
  {
   "cell_type": "code",
   "execution_count": 13,
   "id": "982f4d05",
   "metadata": {},
   "outputs": [
    {
     "data": {
      "text/plain": [
       "0    50.0\n",
       "1    55.0\n",
       "2    60.0\n",
       "3    65.0\n",
       "4    70.0\n",
       "Name: exp_mean, dtype: float64"
      ]
     },
     "execution_count": 13,
     "metadata": {},
     "output_type": "execute_result"
    }
   ],
   "source": [
    "df['exp_mean'] = df['popularity'].expanding().mean()\n",
    "df['exp_sum'] = df['popularity'].expanding().sum()\n",
    "\n",
    "df['exp_mean']"
   ]
  },
  {
   "cell_type": "code",
   "execution_count": 14,
   "id": "196c3fe8",
   "metadata": {},
   "outputs": [
    {
     "data": {
      "text/plain": [
       "0     50.0\n",
       "1    110.0\n",
       "2    180.0\n",
       "3    260.0\n",
       "4    350.0\n",
       "Name: exp_sum, dtype: float64"
      ]
     },
     "execution_count": 14,
     "metadata": {},
     "output_type": "execute_result"
    }
   ],
   "source": [
    "df['exp_sum']"
   ]
  },
  {
   "cell_type": "markdown",
   "id": "3812f9aa",
   "metadata": {},
   "source": [
    "Interpretation:\n",
    "\n",
    "At row 3, exp_mean = average of [50,60,70,80] = 65.\n",
    "\n",
    "At row 3, exp_sum = sum of [50,60,70,80] = 260."
   ]
  },
  {
   "cell_type": "markdown",
   "id": "285be769",
   "metadata": {},
   "source": [
    "#### How expanding() Works\n",
    "\n",
    "expanding() always starts at the first row.\n",
    "\n",
    "At each step, it includes all previous rows up to the current one.\n",
    "\n",
    "That means every row has a bigger “window” of values than the row above it."
   ]
  },
  {
   "cell_type": "code",
   "execution_count": 24,
   "id": "1a6763a3",
   "metadata": {},
   "outputs": [
    {
     "data": {
      "text/html": [
       "<div>\n",
       "<style scoped>\n",
       "    .dataframe tbody tr th:only-of-type {\n",
       "        vertical-align: middle;\n",
       "    }\n",
       "\n",
       "    .dataframe tbody tr th {\n",
       "        vertical-align: top;\n",
       "    }\n",
       "\n",
       "    .dataframe thead th {\n",
       "        text-align: right;\n",
       "    }\n",
       "</style>\n",
       "<table border=\"1\" class=\"dataframe\">\n",
       "  <thead>\n",
       "    <tr style=\"text-align: right;\">\n",
       "      <th></th>\n",
       "      <th>song</th>\n",
       "      <th>popularity</th>\n",
       "    </tr>\n",
       "  </thead>\n",
       "  <tbody>\n",
       "    <tr>\n",
       "      <th>0</th>\n",
       "      <td>A</td>\n",
       "      <td>50</td>\n",
       "    </tr>\n",
       "    <tr>\n",
       "      <th>1</th>\n",
       "      <td>B</td>\n",
       "      <td>60</td>\n",
       "    </tr>\n",
       "    <tr>\n",
       "      <th>2</th>\n",
       "      <td>C</td>\n",
       "      <td>70</td>\n",
       "    </tr>\n",
       "    <tr>\n",
       "      <th>3</th>\n",
       "      <td>D</td>\n",
       "      <td>80</td>\n",
       "    </tr>\n",
       "    <tr>\n",
       "      <th>4</th>\n",
       "      <td>E</td>\n",
       "      <td>90</td>\n",
       "    </tr>\n",
       "  </tbody>\n",
       "</table>\n",
       "</div>"
      ],
      "text/plain": [
       "  song  popularity\n",
       "0    A          50\n",
       "1    B          60\n",
       "2    C          70\n",
       "3    D          80\n",
       "4    E          90"
      ]
     },
     "execution_count": 24,
     "metadata": {},
     "output_type": "execute_result"
    }
   ],
   "source": [
    "import pandas as pd\n",
    "\n",
    "df = pd.DataFrame({\n",
    "    'song': ['A', 'B', 'C', 'D', 'E'],\n",
    "    'popularity': [50, 60, 70, 80, 90]\n",
    "})\n",
    "\n",
    "df"
   ]
  },
  {
   "cell_type": "code",
   "execution_count": 26,
   "id": "2be370fd",
   "metadata": {},
   "outputs": [
    {
     "data": {
      "text/plain": [
       "0    50.0\n",
       "1    55.0\n",
       "2    60.0\n",
       "3    65.0\n",
       "4    70.0\n",
       "Name: exp_mean, dtype: float64"
      ]
     },
     "execution_count": 26,
     "metadata": {},
     "output_type": "execute_result"
    }
   ],
   "source": [
    "df['exp_mean'] = df['popularity'].expanding().mean()\n",
    "df['exp_sum'] = df['popularity'].expanding().sum()\n",
    "\n",
    "df['exp_mean']"
   ]
  },
  {
   "cell_type": "code",
   "execution_count": 27,
   "id": "41fee6c9",
   "metadata": {},
   "outputs": [
    {
     "data": {
      "text/plain": [
       "0     50.0\n",
       "1    110.0\n",
       "2    180.0\n",
       "3    260.0\n",
       "4    350.0\n",
       "Name: exp_sum, dtype: float64"
      ]
     },
     "execution_count": 27,
     "metadata": {},
     "output_type": "execute_result"
    }
   ],
   "source": [
    "df['exp_sum']"
   ]
  },
  {
   "cell_type": "markdown",
   "id": "72fa2589",
   "metadata": {},
   "source": [
    " What Happened Step by Step?\n",
    "\n",
    "Row 0 (A) → Only [50] → mean = 50, sum = 50\n",
    "\n",
    "Row 1 (B) → Values [50,60] → mean = 55, sum = 110\n",
    "\n",
    "Row 2 (C) → Values [50,60,70] → mean = 60, sum = 180\n",
    "\n",
    "Row 3 (D) → Values [50,60,70,80] → mean = 65, sum = 260\n",
    "\n",
    "Row 4 (E) → Values [50,60,70,80,90] → mean = 70, sum = 350\n",
    "\n",
    "👉 Each row’s expanding calculation includes all the rows above + itself."
   ]
  },
  {
   "cell_type": "markdown",
   "id": "fd8b2cda",
   "metadata": {},
   "source": [
    "#### 2. interpolate() → Fill Missing Values\n",
    "\n",
    "👉 Smart way to fill in missing values by estimating them.\n",
    "You can use linear interpolation, time-based, polynomial, etc."
   ]
  },
  {
   "cell_type": "code",
   "execution_count": 29,
   "id": "deebf39b",
   "metadata": {},
   "outputs": [
    {
     "data": {
      "text/html": [
       "<div>\n",
       "<style scoped>\n",
       "    .dataframe tbody tr th:only-of-type {\n",
       "        vertical-align: middle;\n",
       "    }\n",
       "\n",
       "    .dataframe tbody tr th {\n",
       "        vertical-align: top;\n",
       "    }\n",
       "\n",
       "    .dataframe thead th {\n",
       "        text-align: right;\n",
       "    }\n",
       "</style>\n",
       "<table border=\"1\" class=\"dataframe\">\n",
       "  <thead>\n",
       "    <tr style=\"text-align: right;\">\n",
       "      <th></th>\n",
       "      <th>year</th>\n",
       "      <th>popularity</th>\n",
       "    </tr>\n",
       "  </thead>\n",
       "  <tbody>\n",
       "    <tr>\n",
       "      <th>0</th>\n",
       "      <td>2018</td>\n",
       "      <td>80.0</td>\n",
       "    </tr>\n",
       "    <tr>\n",
       "      <th>1</th>\n",
       "      <td>2019</td>\n",
       "      <td>NaN</td>\n",
       "    </tr>\n",
       "    <tr>\n",
       "      <th>2</th>\n",
       "      <td>2020</td>\n",
       "      <td>NaN</td>\n",
       "    </tr>\n",
       "    <tr>\n",
       "      <th>3</th>\n",
       "      <td>2021</td>\n",
       "      <td>95.0</td>\n",
       "    </tr>\n",
       "  </tbody>\n",
       "</table>\n",
       "</div>"
      ],
      "text/plain": [
       "   year  popularity\n",
       "0  2018        80.0\n",
       "1  2019         NaN\n",
       "2  2020         NaN\n",
       "3  2021        95.0"
      ]
     },
     "execution_count": 29,
     "metadata": {},
     "output_type": "execute_result"
    }
   ],
   "source": [
    "df = pd.DataFrame({'year': [2018, 2019, 2020, 2021],\n",
    "                   'popularity': [80, None, None, 95]})\n",
    "\n",
    "df"
   ]
  },
  {
   "cell_type": "code",
   "execution_count": 30,
   "id": "79f631e8",
   "metadata": {},
   "outputs": [
    {
     "data": {
      "text/plain": [
       "0    80.0\n",
       "1    85.0\n",
       "2    90.0\n",
       "3    95.0\n",
       "Name: popularity, dtype: float64"
      ]
     },
     "execution_count": 30,
     "metadata": {},
     "output_type": "execute_result"
    }
   ],
   "source": [
    "df_popularity_linear = df['popularity'].interpolate(method='linear')\n",
    "df_popularity_linear"
   ]
  },
  {
   "cell_type": "code",
   "execution_count": null,
   "id": "abb7ec41",
   "metadata": {},
   "outputs": [],
   "source": []
  }
 ],
 "metadata": {
  "kernelspec": {
   "display_name": "Python 3 (ipykernel)",
   "language": "python",
   "name": "python3"
  },
  "language_info": {
   "codemirror_mode": {
    "name": "ipython",
    "version": 3
   },
   "file_extension": ".py",
   "mimetype": "text/x-python",
   "name": "python",
   "nbconvert_exporter": "python",
   "pygments_lexer": "ipython3",
   "version": "3.11.5"
  }
 },
 "nbformat": 4,
 "nbformat_minor": 5
}
